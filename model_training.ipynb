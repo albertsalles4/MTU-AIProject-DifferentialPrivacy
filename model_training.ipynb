{
 "cells": [
  {
   "cell_type": "code",
   "execution_count": 1,
   "metadata": {},
   "outputs": [
    {
     "name": "stdout",
     "output_type": "stream",
     "text": [
      "WARNING:tensorflow:From c:\\Users\\Albert Salles\\anaconda3\\envs\\ds\\lib\\site-packages\\keras\\src\\losses.py:2976: The name tf.losses.sparse_softmax_cross_entropy is deprecated. Please use tf.compat.v1.losses.sparse_softmax_cross_entropy instead.\n",
      "\n"
     ]
    }
   ],
   "source": [
    "from services.load_dataset import load_data\n",
    "from services.modeling import run_tuner\n",
    "import numpy as np\n",
    "\n",
    "X_train, X_val, X_test, y_train, y_val, y_test  = load_data(data_folder='data')"
   ]
  },
  {
   "cell_type": "code",
   "execution_count": 2,
   "metadata": {},
   "outputs": [
    {
     "name": "stdout",
     "output_type": "stream",
     "text": [
      "Trial 10 Complete [00h 08m 32s]\n",
      "val_recall: 0.5966851115226746\n",
      "\n",
      "Best val_recall So Far: 0.7458563446998596\n",
      "Total elapsed time: 02h 23m 05s\n"
     ]
    },
    {
     "name": "stderr",
     "output_type": "stream",
     "text": [
      "c:\\Users\\Albert Salles\\anaconda3\\envs\\ds\\lib\\site-packages\\sklearn\\base.py:474: FutureWarning: `BaseEstimator._validate_data` is deprecated in 1.6 and will be removed in 1.7. Use `sklearn.utils.validation.validate_data` instead. This function becomes public and is part of the scikit-learn developer API.\n",
      "  warnings.warn(\n"
     ]
    },
    {
     "name": "stdout",
     "output_type": "stream",
     "text": [
      "WARNING:tensorflow:From c:\\Users\\Albert Salles\\anaconda3\\envs\\ds\\lib\\site-packages\\keras\\src\\saving\\legacy\\save.py:538: The name tf.train.NewCheckpointReader is deprecated. Please use tf.compat.v1.train.NewCheckpointReader instead.\n",
      "\n",
      "Best Model Evaluation on Test Set:\n",
      "Loss: 0.1437\n",
      "Accuracy: 0.8861\n",
      "Precision: 0.0432\n",
      "Recall: 0.7996\n",
      "AUC: 0.8889\n",
      "\n",
      "All Trial Results:\n",
      "Trial ID: 00, Score: 0.7458563446998596, Hyperparameters: {'sequence_length': 5, 'units_lstm1': 128, 'dropout1': 0.4, 'units_lstm2': 32, 'dropout2': 0.1, 'learning_rate': 1.2141251510666037e-06}\n",
      "Trial ID: 01, Score: 0.7182320356369019, Hyperparameters: {'sequence_length': 5, 'units_lstm1': 32, 'dropout1': 0.30000000000000004, 'units_lstm2': 16, 'dropout2': 0.1, 'learning_rate': 1.5911012736877732e-05}\n",
      "Trial ID: 02, Score: 0.5488505959510803, Hyperparameters: {'sequence_length': 10, 'units_lstm1': 96, 'dropout1': 0.5, 'units_lstm2': 16, 'dropout2': 0.1, 'learning_rate': 0.0002608965632879485}\n",
      "Trial ID: 03, Score: 0.44962406158447266, Hyperparameters: {'sequence_length': 20, 'units_lstm1': 64, 'dropout1': 0.30000000000000004, 'units_lstm2': 64, 'dropout2': 0.4, 'learning_rate': 2.1622412660601794e-06}\n",
      "Trial ID: 04, Score: 0.29597702622413635, Hyperparameters: {'sequence_length': 10, 'units_lstm1': 32, 'dropout1': 0.2, 'units_lstm2': 16, 'dropout2': 0.4, 'learning_rate': 1.3160201584002988e-07}\n",
      "Trial ID: 05, Score: 0.5263158082962036, Hyperparameters: {'sequence_length': 20, 'units_lstm1': 64, 'dropout1': 0.30000000000000004, 'units_lstm2': 64, 'dropout2': 0.2, 'learning_rate': 0.0003033904105296157}\n",
      "Trial ID: 06, Score: 0.6264367699623108, Hyperparameters: {'sequence_length': 10, 'units_lstm1': 32, 'dropout1': 0.5, 'units_lstm2': 64, 'dropout2': 0.2, 'learning_rate': 4.588682538689637e-06}\n",
      "Trial ID: 07, Score: 0.6494252681732178, Hyperparameters: {'sequence_length': 10, 'units_lstm1': 128, 'dropout1': 0.1, 'units_lstm2': 32, 'dropout2': 0.30000000000000004, 'learning_rate': 1.1106835338317652e-05}\n",
      "Trial ID: 08, Score: 0.44962406158447266, Hyperparameters: {'sequence_length': 20, 'units_lstm1': 128, 'dropout1': 0.1, 'units_lstm2': 48, 'dropout2': 0.4, 'learning_rate': 1.6224765009198746e-05}\n",
      "Trial ID: 09, Score: 0.5966851115226746, Hyperparameters: {'sequence_length': 5, 'units_lstm1': 64, 'dropout1': 0.30000000000000004, 'units_lstm2': 32, 'dropout2': 0.5, 'learning_rate': 8.751750687111833e-07}\n",
      "\n",
      "Best Hyperparameters:\n",
      "{'sequence_length': 5, 'units_lstm1': 128, 'dropout1': 0.4, 'units_lstm2': 32, 'dropout2': 0.1, 'learning_rate': 1.2141251510666037e-06}\n"
     ]
    }
   ],
   "source": [
    "best_model, best_hp, X_train_final_res, y_train_final_res, X_test_final, y_test_final = run_tuner(\n",
    "    X_train=np.concatenate((X_train, X_val), axis=0),\n",
    "    X_test=X_test,\n",
    "    y_train=np.concatenate((y_train, y_val), axis=0),\n",
    "    y_test=y_test\n",
    ")"
   ]
  },
  {
   "cell_type": "code",
   "execution_count": 23,
   "metadata": {
    "executionInfo": {
     "elapsed": 65,
     "status": "ok",
     "timestamp": 1741810334399,
     "user": {
      "displayName": "Albert SallesTorruella",
      "userId": "17599184012787070764"
     },
     "user_tz": -60
    },
    "id": "9d0OY9ov9Zr_"
   },
   "outputs": [
    {
     "name": "stdout",
     "output_type": "stream",
     "text": [
      "WARNING:tensorflow:Detecting that an object or model or tf.train.Checkpoint is being deleted with unrestored values. See the following logs for the specific values in question. To silence these warnings, use `status.expect_partial()`. See https://www.tensorflow.org/api_docs/python/tf/train/Checkpoint#restorefor details about the status object returned by the restore function.\n"
     ]
    },
    {
     "name": "stderr",
     "output_type": "stream",
     "text": [
      "WARNING:tensorflow:Detecting that an object or model or tf.train.Checkpoint is being deleted with unrestored values. See the following logs for the specific values in question. To silence these warnings, use `status.expect_partial()`. See https://www.tensorflow.org/api_docs/python/tf/train/Checkpoint#restorefor details about the status object returned by the restore function.\n"
     ]
    },
    {
     "name": "stdout",
     "output_type": "stream",
     "text": [
      "WARNING:tensorflow:Value in checkpoint could not be found in the restored object: (root).optimizer._variables.1\n"
     ]
    },
    {
     "name": "stderr",
     "output_type": "stream",
     "text": [
      "WARNING:tensorflow:Value in checkpoint could not be found in the restored object: (root).optimizer._variables.1\n"
     ]
    },
    {
     "name": "stdout",
     "output_type": "stream",
     "text": [
      "WARNING:tensorflow:Value in checkpoint could not be found in the restored object: (root).optimizer._variables.2\n"
     ]
    },
    {
     "name": "stderr",
     "output_type": "stream",
     "text": [
      "WARNING:tensorflow:Value in checkpoint could not be found in the restored object: (root).optimizer._variables.2\n"
     ]
    },
    {
     "name": "stdout",
     "output_type": "stream",
     "text": [
      "WARNING:tensorflow:Value in checkpoint could not be found in the restored object: (root).optimizer._variables.3\n"
     ]
    },
    {
     "name": "stderr",
     "output_type": "stream",
     "text": [
      "WARNING:tensorflow:Value in checkpoint could not be found in the restored object: (root).optimizer._variables.3\n"
     ]
    },
    {
     "name": "stdout",
     "output_type": "stream",
     "text": [
      "WARNING:tensorflow:Value in checkpoint could not be found in the restored object: (root).optimizer._variables.4\n"
     ]
    },
    {
     "name": "stderr",
     "output_type": "stream",
     "text": [
      "WARNING:tensorflow:Value in checkpoint could not be found in the restored object: (root).optimizer._variables.4\n"
     ]
    },
    {
     "name": "stdout",
     "output_type": "stream",
     "text": [
      "WARNING:tensorflow:Value in checkpoint could not be found in the restored object: (root).optimizer._variables.5\n"
     ]
    },
    {
     "name": "stderr",
     "output_type": "stream",
     "text": [
      "WARNING:tensorflow:Value in checkpoint could not be found in the restored object: (root).optimizer._variables.5\n"
     ]
    },
    {
     "name": "stdout",
     "output_type": "stream",
     "text": [
      "WARNING:tensorflow:Value in checkpoint could not be found in the restored object: (root).optimizer._variables.6\n"
     ]
    },
    {
     "name": "stderr",
     "output_type": "stream",
     "text": [
      "WARNING:tensorflow:Value in checkpoint could not be found in the restored object: (root).optimizer._variables.6\n"
     ]
    },
    {
     "name": "stdout",
     "output_type": "stream",
     "text": [
      "WARNING:tensorflow:Value in checkpoint could not be found in the restored object: (root).optimizer._variables.7\n"
     ]
    },
    {
     "name": "stderr",
     "output_type": "stream",
     "text": [
      "WARNING:tensorflow:Value in checkpoint could not be found in the restored object: (root).optimizer._variables.7\n"
     ]
    },
    {
     "name": "stdout",
     "output_type": "stream",
     "text": [
      "WARNING:tensorflow:Value in checkpoint could not be found in the restored object: (root).optimizer._variables.8\n"
     ]
    },
    {
     "name": "stderr",
     "output_type": "stream",
     "text": [
      "WARNING:tensorflow:Value in checkpoint could not be found in the restored object: (root).optimizer._variables.8\n"
     ]
    },
    {
     "name": "stdout",
     "output_type": "stream",
     "text": [
      "WARNING:tensorflow:Value in checkpoint could not be found in the restored object: (root).optimizer._variables.9\n"
     ]
    },
    {
     "name": "stderr",
     "output_type": "stream",
     "text": [
      "WARNING:tensorflow:Value in checkpoint could not be found in the restored object: (root).optimizer._variables.9\n"
     ]
    },
    {
     "name": "stdout",
     "output_type": "stream",
     "text": [
      "WARNING:tensorflow:Value in checkpoint could not be found in the restored object: (root).optimizer._variables.10\n"
     ]
    },
    {
     "name": "stderr",
     "output_type": "stream",
     "text": [
      "WARNING:tensorflow:Value in checkpoint could not be found in the restored object: (root).optimizer._variables.10\n"
     ]
    },
    {
     "name": "stdout",
     "output_type": "stream",
     "text": [
      "WARNING:tensorflow:Value in checkpoint could not be found in the restored object: (root).optimizer._variables.11\n"
     ]
    },
    {
     "name": "stderr",
     "output_type": "stream",
     "text": [
      "WARNING:tensorflow:Value in checkpoint could not be found in the restored object: (root).optimizer._variables.11\n"
     ]
    },
    {
     "name": "stdout",
     "output_type": "stream",
     "text": [
      "WARNING:tensorflow:Value in checkpoint could not be found in the restored object: (root).optimizer._variables.12\n"
     ]
    },
    {
     "name": "stderr",
     "output_type": "stream",
     "text": [
      "WARNING:tensorflow:Value in checkpoint could not be found in the restored object: (root).optimizer._variables.12\n"
     ]
    },
    {
     "name": "stdout",
     "output_type": "stream",
     "text": [
      "WARNING:tensorflow:Value in checkpoint could not be found in the restored object: (root).optimizer._variables.13\n"
     ]
    },
    {
     "name": "stderr",
     "output_type": "stream",
     "text": [
      "WARNING:tensorflow:Value in checkpoint could not be found in the restored object: (root).optimizer._variables.13\n"
     ]
    },
    {
     "name": "stdout",
     "output_type": "stream",
     "text": [
      "WARNING:tensorflow:Value in checkpoint could not be found in the restored object: (root).optimizer._variables.14\n"
     ]
    },
    {
     "name": "stderr",
     "output_type": "stream",
     "text": [
      "WARNING:tensorflow:Value in checkpoint could not be found in the restored object: (root).optimizer._variables.14\n"
     ]
    },
    {
     "name": "stdout",
     "output_type": "stream",
     "text": [
      "WARNING:tensorflow:Value in checkpoint could not be found in the restored object: (root).optimizer._variables.15\n"
     ]
    },
    {
     "name": "stderr",
     "output_type": "stream",
     "text": [
      "WARNING:tensorflow:Value in checkpoint could not be found in the restored object: (root).optimizer._variables.15\n"
     ]
    },
    {
     "name": "stdout",
     "output_type": "stream",
     "text": [
      "WARNING:tensorflow:Value in checkpoint could not be found in the restored object: (root).optimizer._variables.16\n"
     ]
    },
    {
     "name": "stderr",
     "output_type": "stream",
     "text": [
      "WARNING:tensorflow:Value in checkpoint could not be found in the restored object: (root).optimizer._variables.16\n"
     ]
    }
   ],
   "source": [
    "import pickle\n",
    "best_model.save('model/base_lstm_model.keras')\n",
    "pickle.dump(best_hp, open('model/best_hp.pkl', 'wb'))"
   ]
  },
  {
   "cell_type": "code",
   "execution_count": 4,
   "metadata": {
    "colab": {
     "base_uri": "https://localhost:8080/",
     "height": 360
    },
    "executionInfo": {
     "elapsed": 138,
     "status": "ok",
     "timestamp": 1741810365520,
     "user": {
      "displayName": "Albert SallesTorruella",
      "userId": "17599184012787070764"
     },
     "user_tz": -60
    },
    "id": "i1J5uGUFZQB4",
    "outputId": "52e61398-9985-4a1a-917b-37a2b3b5d477"
   },
   "outputs": [
    {
     "name": "stderr",
     "output_type": "stream",
     "text": [
      "WARNING:absl:Skipping variable loading for optimizer 'Adam', because it has 17 variables whereas the saved optimizer has 1 variables. \n"
     ]
    },
    {
     "name": "stdout",
     "output_type": "stream",
     "text": [
      "Model: \"sequential\"\n",
      "_________________________________________________________________\n",
      " Layer (type)                Output Shape              Param #   \n",
      "=================================================================\n",
      " lstm (LSTM)                 (None, 5, 128)            80896     \n",
      "                                                                 \n",
      " dropout (Dropout)           (None, 5, 128)            0         \n",
      "                                                                 \n",
      " lstm_1 (LSTM)               (None, 32)                20608     \n",
      "                                                                 \n",
      " dropout_1 (Dropout)         (None, 32)                0         \n",
      "                                                                 \n",
      " dense (Dense)               (None, 1)                 33        \n",
      "                                                                 \n",
      "=================================================================\n",
      "Total params: 101537 (396.63 KB)\n",
      "Trainable params: 101537 (396.63 KB)\n",
      "Non-trainable params: 0 (0.00 Byte)\n",
      "_________________________________________________________________\n"
     ]
    }
   ],
   "source": [
    "from tensorflow.keras.models import load_model\n",
    "\n",
    "# Load the saved model\n",
    "loaded_model = load_model('model/base_lstm_model.keras')\n",
    "\n",
    "# Check the model architecture\n",
    "loaded_model.summary()\n"
   ]
  },
  {
   "cell_type": "code",
   "execution_count": 20,
   "metadata": {},
   "outputs": [
    {
     "name": "stdout",
     "output_type": "stream",
     "text": [
      "Reloading Tuner from hyperparam_tuning\\credit_card_fraud_lstm_precision\\tuner0.json\n",
      "Best Trial Based on F1 Score:\n",
      "Trial ID: 04\n",
      "F1 Score: 0.6792452633599452\n",
      "val_recall: 0.5966851115226746\n",
      "val_precision: 0.7883211970329285\n",
      "Hyperparameters: {'sequence_length': 5, 'units_lstm1': 128, 'dropout1': 0.4, 'units_lstm2': 32, 'dropout2': 0.1, 'learning_rate': 1.3689316316414068e-06}\n"
     ]
    }
   ],
   "source": [
    "from services.modeling import *\n",
    "from keras_tuner.engine.hyperparameters import HyperParameters\n",
    "\n",
    "hypermodel = LSTMHyperModel(X_train=X_train, labels=y_train)\n",
    "# Load the tuner results\n",
    "tuner = kt.RandomSearch(\n",
    "    hypermodel,\n",
    "    objective=kt.Objective('val_recall', direction='max'),\n",
    "    max_trials=10,         # Increase for a more thorough search\n",
    "    executions_per_trial=1,\n",
    "    directory='hyperparam_tuning',\n",
    "    project_name='credit_card_fraud_lstm_precision'\n",
    ")\n",
    "\n",
    "# Load the search results\n",
    "tuner.reload()\n",
    "\n",
    "# Extract trial results\n",
    "trials = tuner.oracle.trials\n",
    "\n",
    "# Collect val_recall, val_precision, and compute F1 score\n",
    "f1_results = []\n",
    "for trial_id, trial in trials.items():\n",
    "    val_recall = trial.metrics.get_history(\"val_recall\")[-1].value[0]  # Get the last recorded val_recall\n",
    "    val_precision = trial.metrics.get_history(\"val_precision\")[-1].value[0]  # Get the last recorded val_precision\n",
    "    \n",
    "    # Compute F1 score\n",
    "    f1_score = 2 * (val_precision * val_recall) / (val_precision + val_recall + 1e-7)  # Add small epsilon to avoid division by zero\n",
    "    \n",
    "    f1_results.append({\n",
    "        \"trial_id\": trial_id,\n",
    "        \"f1_score\": f1_score,\n",
    "        \"val_recall\": val_recall,\n",
    "        \"val_precision\": val_precision,\n",
    "        \"hyperparameters\": trial.hyperparameters.values\n",
    "    })\n",
    "\n",
    "# Sort trials by F1 score (descending order)\n",
    "f1_results.sort(key=lambda x: x[\"f1_score\"], reverse=True)\n",
    "\n",
    "# Get the best trial based on F1 score\n",
    "best_trial = f1_results[0]\n",
    "print(\"Best Trial Based on F1 Score:\")\n",
    "print(f\"Trial ID: {best_trial['trial_id']}\")\n",
    "print(f\"F1 Score: {best_trial['f1_score']}\")\n",
    "print(f\"val_recall: {best_trial['val_recall']}\")\n",
    "print(f\"val_precision: {best_trial['val_precision']}\")\n",
    "print(f\"Hyperparameters: {best_trial['hyperparameters']}\")\n",
    "\n",
    "# Convert the best hyperparameters dictionary to a HyperParameters object\n",
    "best_hp_dict = best_trial[\"hyperparameters\"]\n",
    "best_hp = HyperParameters()\n",
    "best_hp.values = best_hp_dict\n",
    "\n",
    "# Build the model using the HyperParameters object\n",
    "best_model = tuner.hypermodel.build(best_hp)"
   ]
  },
  {
   "cell_type": "code",
   "execution_count": 21,
   "metadata": {},
   "outputs": [
    {
     "name": "stderr",
     "output_type": "stream",
     "text": [
      "c:\\Users\\Albert Salles\\anaconda3\\envs\\ds\\lib\\site-packages\\sklearn\\base.py:474: FutureWarning: `BaseEstimator._validate_data` is deprecated in 1.6 and will be removed in 1.7. Use `sklearn.utils.validation.validate_data` instead. This function becomes public and is part of the scikit-learn developer API.\n",
      "  warnings.warn(\n"
     ]
    },
    {
     "name": "stdout",
     "output_type": "stream",
     "text": [
      "Best Model Evaluation on Test Set:\n",
      "Loss: 0.1535\n",
      "Accuracy: 0.8300\n",
      "Precision: 0.0081\n",
      "Recall: 0.2107\n",
      "AUC: 0.5855\n",
      "\n",
      "All Trial Results:\n",
      "Trial ID: 02, Score: 0.5581394888361018, Hyperparameters: {'sequence_length': 10, 'units_lstm1': 64, 'dropout1': 0.5, 'units_lstm2': 32, 'dropout2': 0.30000000000000004, 'learning_rate': 6.215290391471292e-05}\n",
      "Trial ID: 03, Score: 0.5408559807062664, Hyperparameters: {'sequence_length': 20, 'units_lstm1': 96, 'dropout1': 0.2, 'units_lstm2': 64, 'dropout2': 0.1, 'learning_rate': 1.4655875420689657e-05}\n",
      "Trial ID: 07, Score: 0.6320610277533536, Hyperparameters: {'sequence_length': 10, 'units_lstm1': 128, 'dropout1': 0.2, 'units_lstm2': 16, 'dropout2': 0.5, 'learning_rate': 8.214918755002871e-06}\n",
      "Trial ID: 06, Score: 0.666666638023961, Hyperparameters: {'sequence_length': 5, 'units_lstm1': 64, 'dropout1': 0.1, 'units_lstm2': 32, 'dropout2': 0.2, 'learning_rate': 0.0007779979229651233}\n",
      "Trial ID: 05, Score: 0.6416184561477879, Hyperparameters: {'sequence_length': 5, 'units_lstm1': 32, 'dropout1': 0.1, 'units_lstm2': 48, 'dropout2': 0.4, 'learning_rate': 7.524287524291536e-05}\n",
      "Trial ID: 08, Score: 0.6666666333714666, Hyperparameters: {'sequence_length': 5, 'units_lstm1': 32, 'dropout1': 0.5, 'units_lstm2': 16, 'dropout2': 0.1, 'learning_rate': 0.00015947985068977366}\n",
      "Trial ID: 09, Score: 0.498938378424324, Hyperparameters: {'sequence_length': 20, 'units_lstm1': 32, 'dropout1': 0.30000000000000004, 'units_lstm2': 64, 'dropout2': 0.5, 'learning_rate': 2.5575419671694065e-06}\n",
      "Trial ID: 04, Score: 0.6792452633599452, Hyperparameters: {'sequence_length': 5, 'units_lstm1': 128, 'dropout1': 0.4, 'units_lstm2': 32, 'dropout2': 0.1, 'learning_rate': 1.3689316316414068e-06}\n",
      "Trial ID: 00, Score: 0.6213017193041191, Hyperparameters: {'sequence_length': 5, 'units_lstm1': 96, 'dropout1': 0.5, 'units_lstm2': 64, 'dropout2': 0.1, 'learning_rate': 4.520432813845737e-06}\n",
      "Trial ID: 01, Score: 0.659235620454532, Hyperparameters: {'sequence_length': 10, 'units_lstm1': 32, 'dropout1': 0.4, 'units_lstm2': 32, 'dropout2': 0.5, 'learning_rate': 3.876188060366778e-05}\n",
      "\n",
      "Best Hyperparameters:\n",
      "{'sequence_length': 5, 'units_lstm1': 128, 'dropout1': 0.4, 'units_lstm2': 32, 'dropout2': 0.1, 'learning_rate': 1.3689316316414068e-06}\n"
     ]
    }
   ],
   "source": [
    "best_seq_length = best_hp.get('sequence_length')\n",
    "X_t, y_t = np.concatenate((X_train, X_val), axis=0), np.concatenate((y_train, y_val), axis=0)\n",
    "# For final evaluation, generate a test set using the best sequence length.\n",
    "X_train_final, y_train_final = create_sequences(X_t, y_t, best_seq_length)\n",
    "X_test_final, y_test_final = create_sequences(X_test, y_test, best_seq_length)\n",
    "\n",
    "# Apply SMOTE on the training set\n",
    "n_samples, seq_len, n_features_local = X_train_final.shape\n",
    "X_train_final_flat = X_train_final.reshape(n_samples, seq_len * n_features_local)\n",
    "smote = SMOTE(random_state=42, sampling_strategy=0.25)\n",
    "X_train_final_res, y_train_final_res = smote.fit_resample(X_train_final_flat, y_train_final)\n",
    "X_train_final_res = X_train_final_res.reshape(-1, best_seq_length, n_features_local)\n",
    "\n",
    "# Retrieve the best model and evaluate on the test set\n",
    "loss, accuracy, precision, recall, auc_metric = best_model.evaluate(X_test_final, y_test_final, verbose=0)\n",
    "print(\"Best Model Evaluation on Test Set:\")\n",
    "print(f\"Loss: {loss:.4f}\")\n",
    "print(f\"Accuracy: {accuracy:.4f}\")\n",
    "print(f\"Precision: {precision:.4f}\")\n",
    "print(f\"Recall: {recall:.4f}\")\n",
    "print(f\"AUC: {auc_metric:.4f}\")\n",
    "\n",
    "\n",
    "# -----------------------------------------#\n",
    "# 5. Print All Trials and Best Parameters  #\n",
    "# -----------------------------------------#\n",
    "\n",
    "print(\"\\nAll Trial Results:\")\n",
    "for trial in tuner.oracle.trials.values():\n",
    "    # print f1_score\n",
    "    val_recall = trial.metrics.get_history(\"val_recall\")[-1].value[0]  # Get the last recorded val_recall\n",
    "    val_precision = trial.metrics.get_history(\"val_precision\")[-1].value[0]  # Get the last recorded val_precision\n",
    "    f1_score = 2 * (val_precision * val_recall) / (val_precision + val_recall + 1e-7)  # Add small epsilon to avoid division by zero\n",
    "    print(f\"Trial ID: {trial.trial_id}, Score: {f1_score}, Hyperparameters: {trial.hyperparameters.values}\")\n",
    "\n",
    "print(\"\\nBest Hyperparameters:\")\n",
    "print(best_hp.values)\n"
   ]
  },
  {
   "cell_type": "code",
   "execution_count": 24,
   "metadata": {},
   "outputs": [
    {
     "name": "stdout",
     "output_type": "stream",
     "text": [
      "Model: \"sequential_3\"\n",
      "_________________________________________________________________\n",
      " Layer (type)                Output Shape              Param #   \n",
      "=================================================================\n",
      " lstm_6 (LSTM)               (None, 5, 128)            80896     \n",
      "                                                                 \n",
      " dropout_6 (Dropout)         (None, 5, 128)            0         \n",
      "                                                                 \n",
      " lstm_7 (LSTM)               (None, 32)                20608     \n",
      "                                                                 \n",
      " dropout_7 (Dropout)         (None, 32)                0         \n",
      "                                                                 \n",
      " dense_3 (Dense)             (None, 1)                 33        \n",
      "                                                                 \n",
      "=================================================================\n",
      "Total params: 101537 (396.63 KB)\n",
      "Trainable params: 101537 (396.63 KB)\n",
      "Non-trainable params: 0 (0.00 Byte)\n",
      "_________________________________________________________________\n"
     ]
    }
   ],
   "source": [
    "best_model.summary()"
   ]
  },
  {
   "cell_type": "code",
   "execution_count": 22,
   "metadata": {},
   "outputs": [
    {
     "name": "stdout",
     "output_type": "stream",
     "text": [
      "8080/8080 [==============================] - 25s 3ms/step\n",
      "2380/2380 [==============================] - 7s 3ms/step\n"
     ]
    },
    {
     "name": "stderr",
     "output_type": "stream",
     "text": [
      "c:\\users\\albert salles\\documents\\personal\\mtu\\privacy\\tensorflow_privacy\\privacy\\privacy_tests\\epsilon_lower_bound.py:334: RuntimeWarning: divide by zero encountered in divide\n",
      "  power_3_term_numer = 1 + self._z / 3 * np.sqrt(fnr / tp + tnr / fp -\n",
      "c:\\users\\albert salles\\documents\\personal\\mtu\\privacy\\tensorflow_privacy\\privacy\\privacy_tests\\epsilon_lower_bound.py:335: RuntimeWarning: divide by zero encountered in divide\n",
      "  (self._z**2 * fnr * tnr) /\n",
      "c:\\users\\albert salles\\documents\\personal\\mtu\\privacy\\tensorflow_privacy\\privacy\\privacy_tests\\epsilon_lower_bound.py:334: RuntimeWarning: invalid value encountered in subtract\n",
      "  power_3_term_numer = 1 + self._z / 3 * np.sqrt(fnr / tp + tnr / fp -\n",
      "c:\\users\\albert salles\\documents\\personal\\mtu\\privacy\\tensorflow_privacy\\privacy\\privacy_tests\\epsilon_lower_bound.py:334: RuntimeWarning: divide by zero encountered in divide\n",
      "  power_3_term_numer = 1 + self._z / 3 * np.sqrt(fnr / tp + tnr / fp -\n",
      "c:\\users\\albert salles\\documents\\personal\\mtu\\privacy\\tensorflow_privacy\\privacy\\privacy_tests\\epsilon_lower_bound.py:335: RuntimeWarning: divide by zero encountered in divide\n",
      "  (self._z**2 * fnr * tnr) /\n",
      "c:\\users\\albert salles\\documents\\personal\\mtu\\privacy\\tensorflow_privacy\\privacy\\privacy_tests\\epsilon_lower_bound.py:334: RuntimeWarning: invalid value encountered in subtract\n",
      "  power_3_term_numer = 1 + self._z / 3 * np.sqrt(fnr / tp + tnr / fp -\n",
      "c:\\users\\albert salles\\documents\\personal\\mtu\\privacy\\tensorflow_privacy\\privacy\\privacy_tests\\epsilon_lower_bound.py:334: RuntimeWarning: divide by zero encountered in divide\n",
      "  power_3_term_numer = 1 + self._z / 3 * np.sqrt(fnr / tp + tnr / fp -\n",
      "c:\\users\\albert salles\\documents\\personal\\mtu\\privacy\\tensorflow_privacy\\privacy\\privacy_tests\\epsilon_lower_bound.py:335: RuntimeWarning: divide by zero encountered in divide\n",
      "  (self._z**2 * fnr * tnr) /\n",
      "c:\\users\\albert salles\\documents\\personal\\mtu\\privacy\\tensorflow_privacy\\privacy\\privacy_tests\\epsilon_lower_bound.py:334: RuntimeWarning: invalid value encountered in subtract\n",
      "  power_3_term_numer = 1 + self._z / 3 * np.sqrt(fnr / tp + tnr / fp -\n",
      "c:\\users\\albert salles\\documents\\personal\\mtu\\privacy\\tensorflow_privacy\\privacy\\privacy_tests\\epsilon_lower_bound.py:334: RuntimeWarning: divide by zero encountered in divide\n",
      "  power_3_term_numer = 1 + self._z / 3 * np.sqrt(fnr / tp + tnr / fp -\n",
      "c:\\users\\albert salles\\documents\\personal\\mtu\\privacy\\tensorflow_privacy\\privacy\\privacy_tests\\epsilon_lower_bound.py:335: RuntimeWarning: divide by zero encountered in divide\n",
      "  (self._z**2 * fnr * tnr) /\n",
      "c:\\users\\albert salles\\documents\\personal\\mtu\\privacy\\tensorflow_privacy\\privacy\\privacy_tests\\epsilon_lower_bound.py:334: RuntimeWarning: invalid value encountered in subtract\n",
      "  power_3_term_numer = 1 + self._z / 3 * np.sqrt(fnr / tp + tnr / fp -\n",
      "c:\\users\\albert salles\\documents\\personal\\mtu\\privacy\\tensorflow_privacy\\privacy\\privacy_tests\\epsilon_lower_bound.py:334: RuntimeWarning: divide by zero encountered in divide\n",
      "  power_3_term_numer = 1 + self._z / 3 * np.sqrt(fnr / tp + tnr / fp -\n",
      "c:\\users\\albert salles\\documents\\personal\\mtu\\privacy\\tensorflow_privacy\\privacy\\privacy_tests\\epsilon_lower_bound.py:335: RuntimeWarning: divide by zero encountered in divide\n",
      "  (self._z**2 * fnr * tnr) /\n",
      "c:\\users\\albert salles\\documents\\personal\\mtu\\privacy\\tensorflow_privacy\\privacy\\privacy_tests\\epsilon_lower_bound.py:334: RuntimeWarning: invalid value encountered in subtract\n",
      "  power_3_term_numer = 1 + self._z / 3 * np.sqrt(fnr / tp + tnr / fp -\n",
      "c:\\users\\albert salles\\documents\\personal\\mtu\\privacy\\tensorflow_privacy\\privacy\\privacy_tests\\epsilon_lower_bound.py:334: RuntimeWarning: divide by zero encountered in divide\n",
      "  power_3_term_numer = 1 + self._z / 3 * np.sqrt(fnr / tp + tnr / fp -\n",
      "c:\\users\\albert salles\\documents\\personal\\mtu\\privacy\\tensorflow_privacy\\privacy\\privacy_tests\\epsilon_lower_bound.py:335: RuntimeWarning: divide by zero encountered in divide\n",
      "  (self._z**2 * fnr * tnr) /\n",
      "c:\\users\\albert salles\\documents\\personal\\mtu\\privacy\\tensorflow_privacy\\privacy\\privacy_tests\\epsilon_lower_bound.py:334: RuntimeWarning: invalid value encountered in subtract\n",
      "  power_3_term_numer = 1 + self._z / 3 * np.sqrt(fnr / tp + tnr / fp -\n",
      "c:\\users\\albert salles\\documents\\personal\\mtu\\privacy\\tensorflow_privacy\\privacy\\privacy_tests\\epsilon_lower_bound.py:334: RuntimeWarning: divide by zero encountered in divide\n",
      "  power_3_term_numer = 1 + self._z / 3 * np.sqrt(fnr / tp + tnr / fp -\n",
      "c:\\users\\albert salles\\documents\\personal\\mtu\\privacy\\tensorflow_privacy\\privacy\\privacy_tests\\epsilon_lower_bound.py:335: RuntimeWarning: divide by zero encountered in divide\n",
      "  (self._z**2 * fnr * tnr) /\n",
      "c:\\users\\albert salles\\documents\\personal\\mtu\\privacy\\tensorflow_privacy\\privacy\\privacy_tests\\epsilon_lower_bound.py:334: RuntimeWarning: invalid value encountered in subtract\n",
      "  power_3_term_numer = 1 + self._z / 3 * np.sqrt(fnr / tp + tnr / fp -\n",
      "c:\\users\\albert salles\\documents\\personal\\mtu\\privacy\\tensorflow_privacy\\privacy\\privacy_tests\\epsilon_lower_bound.py:334: RuntimeWarning: divide by zero encountered in divide\n",
      "  power_3_term_numer = 1 + self._z / 3 * np.sqrt(fnr / tp + tnr / fp -\n",
      "c:\\users\\albert salles\\documents\\personal\\mtu\\privacy\\tensorflow_privacy\\privacy\\privacy_tests\\epsilon_lower_bound.py:335: RuntimeWarning: divide by zero encountered in divide\n",
      "  (self._z**2 * fnr * tnr) /\n",
      "c:\\users\\albert salles\\documents\\personal\\mtu\\privacy\\tensorflow_privacy\\privacy\\privacy_tests\\epsilon_lower_bound.py:334: RuntimeWarning: invalid value encountered in subtract\n",
      "  power_3_term_numer = 1 + self._z / 3 * np.sqrt(fnr / tp + tnr / fp -\n",
      "c:\\users\\albert salles\\documents\\personal\\mtu\\privacy\\tensorflow_privacy\\privacy\\privacy_tests\\epsilon_lower_bound.py:334: RuntimeWarning: divide by zero encountered in divide\n",
      "  power_3_term_numer = 1 + self._z / 3 * np.sqrt(fnr / tp + tnr / fp -\n",
      "c:\\users\\albert salles\\documents\\personal\\mtu\\privacy\\tensorflow_privacy\\privacy\\privacy_tests\\epsilon_lower_bound.py:335: RuntimeWarning: divide by zero encountered in divide\n",
      "  (self._z**2 * fnr * tnr) /\n",
      "c:\\users\\albert salles\\documents\\personal\\mtu\\privacy\\tensorflow_privacy\\privacy\\privacy_tests\\epsilon_lower_bound.py:334: RuntimeWarning: invalid value encountered in subtract\n",
      "  power_3_term_numer = 1 + self._z / 3 * np.sqrt(fnr / tp + tnr / fp -\n",
      "c:\\users\\albert salles\\documents\\personal\\mtu\\privacy\\tensorflow_privacy\\privacy\\privacy_tests\\epsilon_lower_bound.py:334: RuntimeWarning: divide by zero encountered in divide\n",
      "  power_3_term_numer = 1 + self._z / 3 * np.sqrt(fnr / tp + tnr / fp -\n",
      "c:\\users\\albert salles\\documents\\personal\\mtu\\privacy\\tensorflow_privacy\\privacy\\privacy_tests\\epsilon_lower_bound.py:335: RuntimeWarning: divide by zero encountered in divide\n",
      "  (self._z**2 * fnr * tnr) /\n",
      "c:\\users\\albert salles\\documents\\personal\\mtu\\privacy\\tensorflow_privacy\\privacy\\privacy_tests\\epsilon_lower_bound.py:334: RuntimeWarning: invalid value encountered in subtract\n",
      "  power_3_term_numer = 1 + self._z / 3 * np.sqrt(fnr / tp + tnr / fp -\n",
      "c:\\users\\albert salles\\documents\\personal\\mtu\\privacy\\tensorflow_privacy\\privacy\\privacy_tests\\epsilon_lower_bound.py:334: RuntimeWarning: divide by zero encountered in divide\n",
      "  power_3_term_numer = 1 + self._z / 3 * np.sqrt(fnr / tp + tnr / fp -\n",
      "c:\\users\\albert salles\\documents\\personal\\mtu\\privacy\\tensorflow_privacy\\privacy\\privacy_tests\\epsilon_lower_bound.py:335: RuntimeWarning: divide by zero encountered in divide\n",
      "  (self._z**2 * fnr * tnr) /\n",
      "c:\\users\\albert salles\\documents\\personal\\mtu\\privacy\\tensorflow_privacy\\privacy\\privacy_tests\\epsilon_lower_bound.py:334: RuntimeWarning: invalid value encountered in subtract\n",
      "  power_3_term_numer = 1 + self._z / 3 * np.sqrt(fnr / tp + tnr / fp -\n",
      "c:\\users\\albert salles\\documents\\personal\\mtu\\privacy\\tensorflow_privacy\\privacy\\privacy_tests\\epsilon_lower_bound.py:334: RuntimeWarning: divide by zero encountered in divide\n",
      "  power_3_term_numer = 1 + self._z / 3 * np.sqrt(fnr / tp + tnr / fp -\n",
      "c:\\users\\albert salles\\documents\\personal\\mtu\\privacy\\tensorflow_privacy\\privacy\\privacy_tests\\epsilon_lower_bound.py:335: RuntimeWarning: divide by zero encountered in divide\n",
      "  (self._z**2 * fnr * tnr) /\n",
      "c:\\users\\albert salles\\documents\\personal\\mtu\\privacy\\tensorflow_privacy\\privacy\\privacy_tests\\epsilon_lower_bound.py:334: RuntimeWarning: invalid value encountered in subtract\n",
      "  power_3_term_numer = 1 + self._z / 3 * np.sqrt(fnr / tp + tnr / fp -\n",
      "c:\\users\\albert salles\\documents\\personal\\mtu\\privacy\\tensorflow_privacy\\privacy\\privacy_tests\\epsilon_lower_bound.py:334: RuntimeWarning: divide by zero encountered in divide\n",
      "  power_3_term_numer = 1 + self._z / 3 * np.sqrt(fnr / tp + tnr / fp -\n",
      "c:\\users\\albert salles\\documents\\personal\\mtu\\privacy\\tensorflow_privacy\\privacy\\privacy_tests\\epsilon_lower_bound.py:335: RuntimeWarning: divide by zero encountered in divide\n",
      "  (self._z**2 * fnr * tnr) /\n",
      "c:\\users\\albert salles\\documents\\personal\\mtu\\privacy\\tensorflow_privacy\\privacy\\privacy_tests\\epsilon_lower_bound.py:334: RuntimeWarning: invalid value encountered in subtract\n",
      "  power_3_term_numer = 1 + self._z / 3 * np.sqrt(fnr / tp + tnr / fp -\n",
      "c:\\users\\albert salles\\documents\\personal\\mtu\\privacy\\tensorflow_privacy\\privacy\\privacy_tests\\epsilon_lower_bound.py:334: RuntimeWarning: divide by zero encountered in divide\n",
      "  power_3_term_numer = 1 + self._z / 3 * np.sqrt(fnr / tp + tnr / fp -\n",
      "c:\\users\\albert salles\\documents\\personal\\mtu\\privacy\\tensorflow_privacy\\privacy\\privacy_tests\\epsilon_lower_bound.py:335: RuntimeWarning: divide by zero encountered in divide\n",
      "  (self._z**2 * fnr * tnr) /\n",
      "c:\\users\\albert salles\\documents\\personal\\mtu\\privacy\\tensorflow_privacy\\privacy\\privacy_tests\\epsilon_lower_bound.py:334: RuntimeWarning: invalid value encountered in subtract\n",
      "  power_3_term_numer = 1 + self._z / 3 * np.sqrt(fnr / tp + tnr / fp -\n",
      "c:\\users\\albert salles\\documents\\personal\\mtu\\privacy\\tensorflow_privacy\\privacy\\privacy_tests\\epsilon_lower_bound.py:334: RuntimeWarning: divide by zero encountered in divide\n",
      "  power_3_term_numer = 1 + self._z / 3 * np.sqrt(fnr / tp + tnr / fp -\n",
      "c:\\users\\albert salles\\documents\\personal\\mtu\\privacy\\tensorflow_privacy\\privacy\\privacy_tests\\epsilon_lower_bound.py:335: RuntimeWarning: divide by zero encountered in divide\n",
      "  (self._z**2 * fnr * tnr) /\n",
      "c:\\users\\albert salles\\documents\\personal\\mtu\\privacy\\tensorflow_privacy\\privacy\\privacy_tests\\epsilon_lower_bound.py:334: RuntimeWarning: invalid value encountered in subtract\n",
      "  power_3_term_numer = 1 + self._z / 3 * np.sqrt(fnr / tp + tnr / fp -\n",
      "c:\\users\\albert salles\\documents\\personal\\mtu\\privacy\\tensorflow_privacy\\privacy\\privacy_tests\\epsilon_lower_bound.py:334: RuntimeWarning: divide by zero encountered in divide\n",
      "  power_3_term_numer = 1 + self._z / 3 * np.sqrt(fnr / tp + tnr / fp -\n",
      "c:\\users\\albert salles\\documents\\personal\\mtu\\privacy\\tensorflow_privacy\\privacy\\privacy_tests\\epsilon_lower_bound.py:335: RuntimeWarning: divide by zero encountered in divide\n",
      "  (self._z**2 * fnr * tnr) /\n",
      "c:\\users\\albert salles\\documents\\personal\\mtu\\privacy\\tensorflow_privacy\\privacy\\privacy_tests\\epsilon_lower_bound.py:334: RuntimeWarning: invalid value encountered in subtract\n",
      "  power_3_term_numer = 1 + self._z / 3 * np.sqrt(fnr / tp + tnr / fp -\n",
      "c:\\users\\albert salles\\documents\\personal\\mtu\\privacy\\tensorflow_privacy\\privacy\\privacy_tests\\epsilon_lower_bound.py:334: RuntimeWarning: divide by zero encountered in divide\n",
      "  power_3_term_numer = 1 + self._z / 3 * np.sqrt(fnr / tp + tnr / fp -\n",
      "c:\\users\\albert salles\\documents\\personal\\mtu\\privacy\\tensorflow_privacy\\privacy\\privacy_tests\\epsilon_lower_bound.py:335: RuntimeWarning: divide by zero encountered in divide\n",
      "  (self._z**2 * fnr * tnr) /\n",
      "c:\\users\\albert salles\\documents\\personal\\mtu\\privacy\\tensorflow_privacy\\privacy\\privacy_tests\\epsilon_lower_bound.py:334: RuntimeWarning: invalid value encountered in subtract\n",
      "  power_3_term_numer = 1 + self._z / 3 * np.sqrt(fnr / tp + tnr / fp -\n",
      "c:\\users\\albert salles\\documents\\personal\\mtu\\privacy\\tensorflow_privacy\\privacy\\privacy_tests\\epsilon_lower_bound.py:334: RuntimeWarning: divide by zero encountered in divide\n",
      "  power_3_term_numer = 1 + self._z / 3 * np.sqrt(fnr / tp + tnr / fp -\n",
      "c:\\users\\albert salles\\documents\\personal\\mtu\\privacy\\tensorflow_privacy\\privacy\\privacy_tests\\epsilon_lower_bound.py:335: RuntimeWarning: divide by zero encountered in divide\n",
      "  (self._z**2 * fnr * tnr) /\n",
      "c:\\users\\albert salles\\documents\\personal\\mtu\\privacy\\tensorflow_privacy\\privacy\\privacy_tests\\epsilon_lower_bound.py:334: RuntimeWarning: invalid value encountered in subtract\n",
      "  power_3_term_numer = 1 + self._z / 3 * np.sqrt(fnr / tp + tnr / fp -\n",
      "c:\\users\\albert salles\\documents\\personal\\mtu\\privacy\\tensorflow_privacy\\privacy\\privacy_tests\\epsilon_lower_bound.py:334: RuntimeWarning: divide by zero encountered in divide\n",
      "  power_3_term_numer = 1 + self._z / 3 * np.sqrt(fnr / tp + tnr / fp -\n",
      "c:\\users\\albert salles\\documents\\personal\\mtu\\privacy\\tensorflow_privacy\\privacy\\privacy_tests\\epsilon_lower_bound.py:335: RuntimeWarning: divide by zero encountered in divide\n",
      "  (self._z**2 * fnr * tnr) /\n",
      "c:\\users\\albert salles\\documents\\personal\\mtu\\privacy\\tensorflow_privacy\\privacy\\privacy_tests\\epsilon_lower_bound.py:334: RuntimeWarning: invalid value encountered in subtract\n",
      "  power_3_term_numer = 1 + self._z / 3 * np.sqrt(fnr / tp + tnr / fp -\n",
      "c:\\users\\albert salles\\documents\\personal\\mtu\\privacy\\tensorflow_privacy\\privacy\\privacy_tests\\epsilon_lower_bound.py:334: RuntimeWarning: divide by zero encountered in divide\n",
      "  power_3_term_numer = 1 + self._z / 3 * np.sqrt(fnr / tp + tnr / fp -\n",
      "c:\\users\\albert salles\\documents\\personal\\mtu\\privacy\\tensorflow_privacy\\privacy\\privacy_tests\\epsilon_lower_bound.py:335: RuntimeWarning: divide by zero encountered in divide\n",
      "  (self._z**2 * fnr * tnr) /\n",
      "c:\\users\\albert salles\\documents\\personal\\mtu\\privacy\\tensorflow_privacy\\privacy\\privacy_tests\\epsilon_lower_bound.py:334: RuntimeWarning: invalid value encountered in subtract\n",
      "  power_3_term_numer = 1 + self._z / 3 * np.sqrt(fnr / tp + tnr / fp -\n",
      "c:\\users\\albert salles\\documents\\personal\\mtu\\privacy\\tensorflow_privacy\\privacy\\privacy_tests\\epsilon_lower_bound.py:334: RuntimeWarning: divide by zero encountered in divide\n",
      "  power_3_term_numer = 1 + self._z / 3 * np.sqrt(fnr / tp + tnr / fp -\n",
      "c:\\users\\albert salles\\documents\\personal\\mtu\\privacy\\tensorflow_privacy\\privacy\\privacy_tests\\epsilon_lower_bound.py:335: RuntimeWarning: divide by zero encountered in divide\n",
      "  (self._z**2 * fnr * tnr) /\n",
      "c:\\users\\albert salles\\documents\\personal\\mtu\\privacy\\tensorflow_privacy\\privacy\\privacy_tests\\epsilon_lower_bound.py:334: RuntimeWarning: invalid value encountered in subtract\n",
      "  power_3_term_numer = 1 + self._z / 3 * np.sqrt(fnr / tp + tnr / fp -\n",
      "c:\\users\\albert salles\\documents\\personal\\mtu\\privacy\\tensorflow_privacy\\privacy\\privacy_tests\\epsilon_lower_bound.py:334: RuntimeWarning: divide by zero encountered in divide\n",
      "  power_3_term_numer = 1 + self._z / 3 * np.sqrt(fnr / tp + tnr / fp -\n",
      "c:\\users\\albert salles\\documents\\personal\\mtu\\privacy\\tensorflow_privacy\\privacy\\privacy_tests\\epsilon_lower_bound.py:335: RuntimeWarning: divide by zero encountered in divide\n",
      "  (self._z**2 * fnr * tnr) /\n",
      "c:\\users\\albert salles\\documents\\personal\\mtu\\privacy\\tensorflow_privacy\\privacy\\privacy_tests\\epsilon_lower_bound.py:334: RuntimeWarning: invalid value encountered in subtract\n",
      "  power_3_term_numer = 1 + self._z / 3 * np.sqrt(fnr / tp + tnr / fp -\n",
      "c:\\users\\albert salles\\documents\\personal\\mtu\\privacy\\tensorflow_privacy\\privacy\\privacy_tests\\epsilon_lower_bound.py:334: RuntimeWarning: divide by zero encountered in divide\n",
      "  power_3_term_numer = 1 + self._z / 3 * np.sqrt(fnr / tp + tnr / fp -\n",
      "c:\\users\\albert salles\\documents\\personal\\mtu\\privacy\\tensorflow_privacy\\privacy\\privacy_tests\\epsilon_lower_bound.py:335: RuntimeWarning: divide by zero encountered in divide\n",
      "  (self._z**2 * fnr * tnr) /\n",
      "c:\\users\\albert salles\\documents\\personal\\mtu\\privacy\\tensorflow_privacy\\privacy\\privacy_tests\\epsilon_lower_bound.py:334: RuntimeWarning: invalid value encountered in subtract\n",
      "  power_3_term_numer = 1 + self._z / 3 * np.sqrt(fnr / tp + tnr / fp -\n",
      "c:\\users\\albert salles\\documents\\personal\\mtu\\privacy\\tensorflow_privacy\\privacy\\privacy_tests\\epsilon_lower_bound.py:334: RuntimeWarning: divide by zero encountered in divide\n",
      "  power_3_term_numer = 1 + self._z / 3 * np.sqrt(fnr / tp + tnr / fp -\n",
      "c:\\users\\albert salles\\documents\\personal\\mtu\\privacy\\tensorflow_privacy\\privacy\\privacy_tests\\epsilon_lower_bound.py:335: RuntimeWarning: divide by zero encountered in divide\n",
      "  (self._z**2 * fnr * tnr) /\n",
      "c:\\users\\albert salles\\documents\\personal\\mtu\\privacy\\tensorflow_privacy\\privacy\\privacy_tests\\epsilon_lower_bound.py:334: RuntimeWarning: invalid value encountered in subtract\n",
      "  power_3_term_numer = 1 + self._z / 3 * np.sqrt(fnr / tp + tnr / fp -\n",
      "c:\\users\\albert salles\\documents\\personal\\mtu\\privacy\\tensorflow_privacy\\privacy\\privacy_tests\\epsilon_lower_bound.py:334: RuntimeWarning: divide by zero encountered in divide\n",
      "  power_3_term_numer = 1 + self._z / 3 * np.sqrt(fnr / tp + tnr / fp -\n",
      "c:\\users\\albert salles\\documents\\personal\\mtu\\privacy\\tensorflow_privacy\\privacy\\privacy_tests\\epsilon_lower_bound.py:335: RuntimeWarning: divide by zero encountered in divide\n",
      "  (self._z**2 * fnr * tnr) /\n",
      "c:\\users\\albert salles\\documents\\personal\\mtu\\privacy\\tensorflow_privacy\\privacy\\privacy_tests\\epsilon_lower_bound.py:334: RuntimeWarning: invalid value encountered in subtract\n",
      "  power_3_term_numer = 1 + self._z / 3 * np.sqrt(fnr / tp + tnr / fp -\n",
      "c:\\users\\albert salles\\documents\\personal\\mtu\\privacy\\tensorflow_privacy\\privacy\\privacy_tests\\epsilon_lower_bound.py:334: RuntimeWarning: divide by zero encountered in divide\n",
      "  power_3_term_numer = 1 + self._z / 3 * np.sqrt(fnr / tp + tnr / fp -\n",
      "c:\\users\\albert salles\\documents\\personal\\mtu\\privacy\\tensorflow_privacy\\privacy\\privacy_tests\\epsilon_lower_bound.py:335: RuntimeWarning: divide by zero encountered in divide\n",
      "  (self._z**2 * fnr * tnr) /\n",
      "c:\\users\\albert salles\\documents\\personal\\mtu\\privacy\\tensorflow_privacy\\privacy\\privacy_tests\\epsilon_lower_bound.py:334: RuntimeWarning: invalid value encountered in subtract\n",
      "  power_3_term_numer = 1 + self._z / 3 * np.sqrt(fnr / tp + tnr / fp -\n",
      "c:\\users\\albert salles\\documents\\personal\\mtu\\privacy\\tensorflow_privacy\\privacy\\privacy_tests\\epsilon_lower_bound.py:334: RuntimeWarning: divide by zero encountered in divide\n",
      "  power_3_term_numer = 1 + self._z / 3 * np.sqrt(fnr / tp + tnr / fp -\n",
      "c:\\users\\albert salles\\documents\\personal\\mtu\\privacy\\tensorflow_privacy\\privacy\\privacy_tests\\epsilon_lower_bound.py:335: RuntimeWarning: divide by zero encountered in divide\n",
      "  (self._z**2 * fnr * tnr) /\n",
      "c:\\users\\albert salles\\documents\\personal\\mtu\\privacy\\tensorflow_privacy\\privacy\\privacy_tests\\epsilon_lower_bound.py:334: RuntimeWarning: invalid value encountered in subtract\n",
      "  power_3_term_numer = 1 + self._z / 3 * np.sqrt(fnr / tp + tnr / fp -\n",
      "c:\\users\\albert salles\\documents\\personal\\mtu\\privacy\\tensorflow_privacy\\privacy\\privacy_tests\\epsilon_lower_bound.py:334: RuntimeWarning: divide by zero encountered in divide\n",
      "  power_3_term_numer = 1 + self._z / 3 * np.sqrt(fnr / tp + tnr / fp -\n",
      "c:\\users\\albert salles\\documents\\personal\\mtu\\privacy\\tensorflow_privacy\\privacy\\privacy_tests\\epsilon_lower_bound.py:335: RuntimeWarning: divide by zero encountered in divide\n",
      "  (self._z**2 * fnr * tnr) /\n",
      "c:\\users\\albert salles\\documents\\personal\\mtu\\privacy\\tensorflow_privacy\\privacy\\privacy_tests\\epsilon_lower_bound.py:334: RuntimeWarning: invalid value encountered in subtract\n",
      "  power_3_term_numer = 1 + self._z / 3 * np.sqrt(fnr / tp + tnr / fp -\n",
      "c:\\users\\albert salles\\documents\\personal\\mtu\\privacy\\tensorflow_privacy\\privacy\\privacy_tests\\epsilon_lower_bound.py:334: RuntimeWarning: divide by zero encountered in divide\n",
      "  power_3_term_numer = 1 + self._z / 3 * np.sqrt(fnr / tp + tnr / fp -\n",
      "c:\\users\\albert salles\\documents\\personal\\mtu\\privacy\\tensorflow_privacy\\privacy\\privacy_tests\\epsilon_lower_bound.py:335: RuntimeWarning: divide by zero encountered in divide\n",
      "  (self._z**2 * fnr * tnr) /\n",
      "c:\\users\\albert salles\\documents\\personal\\mtu\\privacy\\tensorflow_privacy\\privacy\\privacy_tests\\epsilon_lower_bound.py:334: RuntimeWarning: invalid value encountered in subtract\n",
      "  power_3_term_numer = 1 + self._z / 3 * np.sqrt(fnr / tp + tnr / fp -\n",
      "c:\\users\\albert salles\\documents\\personal\\mtu\\privacy\\tensorflow_privacy\\privacy\\privacy_tests\\epsilon_lower_bound.py:334: RuntimeWarning: divide by zero encountered in divide\n",
      "  power_3_term_numer = 1 + self._z / 3 * np.sqrt(fnr / tp + tnr / fp -\n",
      "c:\\users\\albert salles\\documents\\personal\\mtu\\privacy\\tensorflow_privacy\\privacy\\privacy_tests\\epsilon_lower_bound.py:335: RuntimeWarning: divide by zero encountered in divide\n",
      "  (self._z**2 * fnr * tnr) /\n",
      "c:\\users\\albert salles\\documents\\personal\\mtu\\privacy\\tensorflow_privacy\\privacy\\privacy_tests\\epsilon_lower_bound.py:334: RuntimeWarning: invalid value encountered in subtract\n",
      "  power_3_term_numer = 1 + self._z / 3 * np.sqrt(fnr / tp + tnr / fp -\n"
     ]
    },
    {
     "data": {
      "image/png": "[encoded data removed]",
      "text/plain": [
       "<Figure size 640x480 with 1 Axes>"
      ]
     },
     "metadata": {},
     "output_type": "display_data"
    }
   ],
   "source": [
    "from services.eval_privacy import compute_mia_attacks\n",
    "\n",
    "attacks_results, fig = compute_mia_attacks(model=best_model, X_train=X_train_final_res, X_test=X_test_final, y_train=y_train_final_res, y_test=y_test_final)"
   ]
  },
  {
   "cell_type": "code",
   "execution_count": 19,
   "metadata": {},
   "outputs": [
    {
     "name": "stdout",
     "output_type": "stream",
     "text": [
      "           slice feature slice value  train size  test size  \\\n",
      "0         Entire dataset                  252487      76137   \n",
      "1         Entire dataset                  252487      76137   \n",
      "2                  class           0      201990      74280   \n",
      "3                  class           0      201990      74280   \n",
      "..                   ...         ...         ...        ...   \n",
      "26  correctly_classified        True      201990      74280   \n",
      "27  correctly_classified        True      201990      74280   \n",
      "28  correctly_classified       False       50497       1857   \n",
      "29  correctly_classified       False       50497       1857   \n",
      "\n",
      "            attack type  Attacker advantage  Positive predictive value  \\\n",
      "0      THRESHOLD_ATTACK            0.360897                   0.951030   \n",
      "1   LOGISTIC_REGRESSION            0.402566                   0.972704   \n",
      "2      THRESHOLD_ATTACK            0.330837                   0.972250   \n",
      "3   LOGISTIC_REGRESSION            0.330992                   0.971528   \n",
      "..                  ...                 ...                        ...   \n",
      "26     THRESHOLD_ATTACK            0.330837                   0.972250   \n",
      "27  LOGISTIC_REGRESSION            0.330442                   0.969273   \n",
      "28     THRESHOLD_ATTACK            0.320555                   1.000000   \n",
      "29  LOGISTIC_REGRESSION            0.447844                   1.000000   \n",
      "\n",
      "         AUC  Epsilon lower bound_1  Epsilon lower bound_2  \\\n",
      "0   0.731441               3.065419               3.060381   \n",
      "1   0.741925               3.050227               3.045111   \n",
      "2   0.712845               3.263869               3.258831   \n",
      "3   0.713111               3.273871               3.268883   \n",
      "..       ...                    ...                    ...   \n",
      "26  0.712845               3.263869               3.258831   \n",
      "27  0.713318               2.981154               2.974464   \n",
      "28  0.307278               2.298971               2.297651   \n",
      "29  0.671454               2.276287               2.274937   \n",
      "\n",
      "    Epsilon lower bound_3  Epsilon lower bound_4  Epsilon lower bound_5  \n",
      "0                3.055317               3.050227               3.045111  \n",
      "1                3.039969               3.034800               3.029605  \n",
      "2                3.253767               3.248677               3.243561  \n",
      "3                3.263869               3.258831               3.253767  \n",
      "..                    ...                    ...                    ...  \n",
      "26               3.253767               3.248677               3.243561  \n",
      "27               2.967729               2.960948               2.954121  \n",
      "28               2.296329               2.295005               2.293680  \n",
      "29               2.273584               2.272230               2.270874  \n",
      "\n",
      "[30 rows x 13 columns]\n"
     ]
    }
   ],
   "source": [
    "import pandas as pd\n",
    "\n",
    "pd.set_option(\"display.max_rows\", 8, \"display.max_columns\", None)\n",
    "print(attacks_results.calculate_pd_dataframe())"
   ]
  },
  {
   "cell_type": "code",
   "execution_count": null,
   "metadata": {},
   "outputs": [],
   "source": []
  }
 ],
 "metadata": {
  "accelerator": "GPU",
  "colab": {
   "authorship_tag": "ABX9TyOMmETxQD2d7KiUpjSDU1F1",
   "gpuType": "T4",
   "mount_file_id": "1mJtX38Y9103-VU3j4l9xT5sEKs-FWCLl",
   "provenance": []
  },
  "kernelspec": {
   "display_name": "ds",
   "language": "python",
   "name": "python3"
  },
  "language_info": {
   "codemirror_mode": {
    "name": "ipython",
    "version": 3
   },
   "file_extension": ".py",
   "mimetype": "text/x-python",
   "name": "python",
   "nbconvert_exporter": "python",
   "pygments_lexer": "ipython3",
   "version": "3.11.5"
  }
 },
 "nbformat": 4,
 "nbformat_minor": 0
}
