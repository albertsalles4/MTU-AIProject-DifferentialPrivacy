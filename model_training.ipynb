{
 "cells": [
  {
   "cell_type": "code",
   "execution_count": 1,
   "metadata": {},
   "outputs": [
    {
     "name": "stdout",
     "output_type": "stream",
     "text": [
      "WARNING:tensorflow:From c:\\Users\\Albert Salles\\anaconda3\\envs\\ds\\lib\\site-packages\\keras\\src\\losses.py:2976: The name tf.losses.sparse_softmax_cross_entropy is deprecated. Please use tf.compat.v1.losses.sparse_softmax_cross_entropy instead.\n",
      "\n"
     ]
    }
   ],
   "source": [
    "from services.load_dataset import load_data\n",
    "from services.modeling import run_tuner\n",
    "import numpy as np\n",
    "\n",
    "X_train, X_val, X_test, y_train, y_val, y_test  = load_data(data_folder='data')"
   ]
  },
  {
   "cell_type": "code",
   "execution_count": 2,
   "metadata": {},
   "outputs": [
    {
     "name": "stdout",
     "output_type": "stream",
     "text": [
      "Trial 10 Complete [00h 20m 03s]\n",
      "val_precision: 0.8483754396438599\n",
      "\n",
      "Best val_precision So Far: 0.8483754396438599\n",
      "Total elapsed time: 02h 46m 39s\n"
     ]
    },
    {
     "name": "stderr",
     "output_type": "stream",
     "text": [
      "c:\\Users\\Albert Salles\\anaconda3\\envs\\ds\\lib\\site-packages\\sklearn\\base.py:474: FutureWarning: `BaseEstimator._validate_data` is deprecated in 1.6 and will be removed in 1.7. Use `sklearn.utils.validation.validate_data` instead. This function becomes public and is part of the scikit-learn developer API.\n",
      "  warnings.warn(\n"
     ]
    },
    {
     "name": "stdout",
     "output_type": "stream",
     "text": [
      "WARNING:tensorflow:From c:\\Users\\Albert Salles\\anaconda3\\envs\\ds\\lib\\site-packages\\keras\\src\\saving\\legacy\\save.py:538: The name tf.train.NewCheckpointReader is deprecated. Please use tf.compat.v1.train.NewCheckpointReader instead.\n",
      "\n",
      "Best Model Evaluation on Test Set:\n",
      "Loss: 0.0182\n",
      "Accuracy: 0.9876\n",
      "Precision: 0.9095\n",
      "Recall: 0.5466\n",
      "AUC: 0.8826\n",
      "\n",
      "All Trial Results:\n",
      "Trial ID: 00, Score: 0.668789803981781, Hyperparameters: {'sequence_length': 5, 'units_lstm1': 96, 'dropout1': 0.5, 'units_lstm2': 64, 'dropout2': 0.1, 'learning_rate': 4.520432813845737e-06}\n",
      "Trial ID: 01, Score: 0.7392857074737549, Hyperparameters: {'sequence_length': 10, 'units_lstm1': 32, 'dropout1': 0.4, 'units_lstm2': 32, 'dropout2': 0.5, 'learning_rate': 3.876188060366778e-05}\n",
      "Trial ID: 02, Score: 0.7393364906311035, Hyperparameters: {'sequence_length': 10, 'units_lstm1': 64, 'dropout1': 0.5, 'units_lstm2': 32, 'dropout2': 0.30000000000000004, 'learning_rate': 6.215290391471292e-05}\n",
      "Trial ID: 03, Score: 0.7658402323722839, Hyperparameters: {'sequence_length': 20, 'units_lstm1': 96, 'dropout1': 0.2, 'units_lstm2': 64, 'dropout2': 0.1, 'learning_rate': 1.4655875420689657e-05}\n",
      "Trial ID: 04, Score: 0.7883211970329285, Hyperparameters: {'sequence_length': 5, 'units_lstm1': 128, 'dropout1': 0.4, 'units_lstm2': 32, 'dropout2': 0.1, 'learning_rate': 1.3689316316414068e-06}\n",
      "Trial ID: 05, Score: 0.6727272868156433, Hyperparameters: {'sequence_length': 5, 'units_lstm1': 32, 'dropout1': 0.1, 'units_lstm2': 48, 'dropout2': 0.4, 'learning_rate': 7.524287524291536e-05}\n",
      "Trial ID: 06, Score: 0.8046875, Hyperparameters: {'sequence_length': 5, 'units_lstm1': 64, 'dropout1': 0.1, 'units_lstm2': 32, 'dropout2': 0.2, 'learning_rate': 0.0007779979229651233}\n",
      "Trial ID: 07, Score: 0.6742671132087708, Hyperparameters: {'sequence_length': 10, 'units_lstm1': 128, 'dropout1': 0.2, 'units_lstm2': 16, 'dropout2': 0.5, 'learning_rate': 8.214918755002871e-06}\n",
      "Trial ID: 08, Score: 0.7151898741722107, Hyperparameters: {'sequence_length': 5, 'units_lstm1': 32, 'dropout1': 0.5, 'units_lstm2': 16, 'dropout2': 0.1, 'learning_rate': 0.00015947985068977366}\n",
      "Trial ID: 09, Score: 0.8483754396438599, Hyperparameters: {'sequence_length': 20, 'units_lstm1': 32, 'dropout1': 0.30000000000000004, 'units_lstm2': 64, 'dropout2': 0.5, 'learning_rate': 2.5575419671694065e-06}\n",
      "\n",
      "Best Hyperparameters:\n",
      "{'sequence_length': 20, 'units_lstm1': 32, 'dropout1': 0.30000000000000004, 'units_lstm2': 64, 'dropout2': 0.5, 'learning_rate': 2.5575419671694065e-06}\n"
     ]
    }
   ],
   "source": [
    "best_model, best_hp, X_train_final_res, y_train_final_res, X_test_final, y_test_final = run_tuner(\n",
    "    X_train=np.concatenate((X_train, X_val), axis=0),\n",
    "    X_test=X_test,\n",
    "    y_train=np.concatenate((y_train, y_val), axis=0),\n",
    "    y_test=y_test\n",
    ")"
   ]
  },
  {
   "cell_type": "code",
   "execution_count": 3,
   "metadata": {
    "executionInfo": {
     "elapsed": 65,
     "status": "ok",
     "timestamp": 1741810334399,
     "user": {
      "displayName": "Albert SallesTorruella",
      "userId": "17599184012787070764"
     },
     "user_tz": -60
    },
    "id": "9d0OY9ov9Zr_"
   },
   "outputs": [],
   "source": [
    "import pickle\n",
    "best_model.save('model/base_lstm_model.keras')\n",
    "pickle.dump(best_hp, open('model/best_hp.pkl', 'wb'))"
   ]
  },
  {
   "cell_type": "code",
   "execution_count": 4,
   "metadata": {
    "colab": {
     "base_uri": "https://localhost:8080/",
     "height": 360
    },
    "executionInfo": {
     "elapsed": 138,
     "status": "ok",
     "timestamp": 1741810365520,
     "user": {
      "displayName": "Albert SallesTorruella",
      "userId": "17599184012787070764"
     },
     "user_tz": -60
    },
    "id": "i1J5uGUFZQB4",
    "outputId": "52e61398-9985-4a1a-917b-37a2b3b5d477"
   },
   "outputs": [
    {
     "name": "stderr",
     "output_type": "stream",
     "text": [
      "WARNING:absl:Skipping variable loading for optimizer 'Adam', because it has 17 variables whereas the saved optimizer has 1 variables. \n"
     ]
    },
    {
     "name": "stdout",
     "output_type": "stream",
     "text": [
      "Model: \"sequential\"\n",
      "_________________________________________________________________\n",
      " Layer (type)                Output Shape              Param #   \n",
      "=================================================================\n",
      " lstm (LSTM)                 (None, 20, 32)            7936      \n",
      "                                                                 \n",
      " dropout (Dropout)           (None, 20, 32)            0         \n",
      "                                                                 \n",
      " lstm_1 (LSTM)               (None, 64)                24832     \n",
      "                                                                 \n",
      " dropout_1 (Dropout)         (None, 64)                0         \n",
      "                                                                 \n",
      " dense (Dense)               (None, 1)                 65        \n",
      "                                                                 \n",
      "=================================================================\n",
      "Total params: 32833 (128.25 KB)\n",
      "Trainable params: 32833 (128.25 KB)\n",
      "Non-trainable params: 0 (0.00 Byte)\n",
      "_________________________________________________________________\n"
     ]
    }
   ],
   "source": [
    "from tensorflow.keras.models import load_model\n",
    "\n",
    "# Load the saved model\n",
    "loaded_model = load_model('model/base_lstm_model.keras')\n",
    "\n",
    "# Check the model architecture\n",
    "loaded_model.summary()\n"
   ]
  },
  {
   "cell_type": "code",
   "execution_count": 5,
   "metadata": {},
   "outputs": [
    {
     "name": "stdout",
     "output_type": "stream",
     "text": [
      "WARNING:tensorflow:From c:\\Users\\Albert Salles\\anaconda3\\envs\\ds\\lib\\site-packages\\tensorflow_probability\\python\\internal\\backend\\numpy\\_utils.py:48: The name tf.logging.TaskLevelStatusMessage is deprecated. Please use tf.compat.v1.logging.TaskLevelStatusMessage instead.\n",
      "\n"
     ]
    },
    {
     "name": "stderr",
     "output_type": "stream",
     "text": [
      "WARNING:tensorflow:From c:\\Users\\Albert Salles\\anaconda3\\envs\\ds\\lib\\site-packages\\tensorflow_probability\\python\\internal\\backend\\numpy\\_utils.py:48: The name tf.logging.TaskLevelStatusMessage is deprecated. Please use tf.compat.v1.logging.TaskLevelStatusMessage instead.\n",
      "\n"
     ]
    },
    {
     "name": "stdout",
     "output_type": "stream",
     "text": [
      "7891/7891 [==============================] - 45s 6ms/step\n",
      "2380/2380 [==============================] - 14s 6ms/step\n"
     ]
    },
    {
     "name": "stderr",
     "output_type": "stream",
     "text": [
      "c:\\users\\albert salles\\documents\\personal\\mtu\\privacy\\tensorflow_privacy\\privacy\\privacy_tests\\epsilon_lower_bound.py:334: RuntimeWarning: divide by zero encountered in divide\n",
      "  power_3_term_numer = 1 + self._z / 3 * np.sqrt(fnr / tp + tnr / fp -\n",
      "c:\\users\\albert salles\\documents\\personal\\mtu\\privacy\\tensorflow_privacy\\privacy\\privacy_tests\\epsilon_lower_bound.py:335: RuntimeWarning: divide by zero encountered in divide\n",
      "  (self._z**2 * fnr * tnr) /\n",
      "c:\\users\\albert salles\\documents\\personal\\mtu\\privacy\\tensorflow_privacy\\privacy\\privacy_tests\\epsilon_lower_bound.py:334: RuntimeWarning: invalid value encountered in subtract\n",
      "  power_3_term_numer = 1 + self._z / 3 * np.sqrt(fnr / tp + tnr / fp -\n",
      "c:\\users\\albert salles\\documents\\personal\\mtu\\privacy\\tensorflow_privacy\\privacy\\privacy_tests\\epsilon_lower_bound.py:334: RuntimeWarning: divide by zero encountered in divide\n",
      "  power_3_term_numer = 1 + self._z / 3 * np.sqrt(fnr / tp + tnr / fp -\n",
      "c:\\users\\albert salles\\documents\\personal\\mtu\\privacy\\tensorflow_privacy\\privacy\\privacy_tests\\epsilon_lower_bound.py:335: RuntimeWarning: divide by zero encountered in divide\n",
      "  (self._z**2 * fnr * tnr) /\n",
      "c:\\users\\albert salles\\documents\\personal\\mtu\\privacy\\tensorflow_privacy\\privacy\\privacy_tests\\epsilon_lower_bound.py:334: RuntimeWarning: invalid value encountered in subtract\n",
      "  power_3_term_numer = 1 + self._z / 3 * np.sqrt(fnr / tp + tnr / fp -\n",
      "c:\\users\\albert salles\\documents\\personal\\mtu\\privacy\\tensorflow_privacy\\privacy\\privacy_tests\\epsilon_lower_bound.py:334: RuntimeWarning: divide by zero encountered in divide\n",
      "  power_3_term_numer = 1 + self._z / 3 * np.sqrt(fnr / tp + tnr / fp -\n",
      "c:\\users\\albert salles\\documents\\personal\\mtu\\privacy\\tensorflow_privacy\\privacy\\privacy_tests\\epsilon_lower_bound.py:335: RuntimeWarning: divide by zero encountered in divide\n",
      "  (self._z**2 * fnr * tnr) /\n",
      "c:\\users\\albert salles\\documents\\personal\\mtu\\privacy\\tensorflow_privacy\\privacy\\privacy_tests\\epsilon_lower_bound.py:334: RuntimeWarning: invalid value encountered in subtract\n",
      "  power_3_term_numer = 1 + self._z / 3 * np.sqrt(fnr / tp + tnr / fp -\n",
      "c:\\users\\albert salles\\documents\\personal\\mtu\\privacy\\tensorflow_privacy\\privacy\\privacy_tests\\epsilon_lower_bound.py:334: RuntimeWarning: divide by zero encountered in divide\n",
      "  power_3_term_numer = 1 + self._z / 3 * np.sqrt(fnr / tp + tnr / fp -\n",
      "c:\\users\\albert salles\\documents\\personal\\mtu\\privacy\\tensorflow_privacy\\privacy\\privacy_tests\\epsilon_lower_bound.py:335: RuntimeWarning: divide by zero encountered in divide\n",
      "  (self._z**2 * fnr * tnr) /\n",
      "c:\\users\\albert salles\\documents\\personal\\mtu\\privacy\\tensorflow_privacy\\privacy\\privacy_tests\\epsilon_lower_bound.py:334: RuntimeWarning: invalid value encountered in subtract\n",
      "  power_3_term_numer = 1 + self._z / 3 * np.sqrt(fnr / tp + tnr / fp -\n",
      "c:\\users\\albert salles\\documents\\personal\\mtu\\privacy\\tensorflow_privacy\\privacy\\privacy_tests\\epsilon_lower_bound.py:334: RuntimeWarning: divide by zero encountered in divide\n",
      "  power_3_term_numer = 1 + self._z / 3 * np.sqrt(fnr / tp + tnr / fp -\n",
      "c:\\users\\albert salles\\documents\\personal\\mtu\\privacy\\tensorflow_privacy\\privacy\\privacy_tests\\epsilon_lower_bound.py:335: RuntimeWarning: divide by zero encountered in divide\n",
      "  (self._z**2 * fnr * tnr) /\n",
      "c:\\users\\albert salles\\documents\\personal\\mtu\\privacy\\tensorflow_privacy\\privacy\\privacy_tests\\epsilon_lower_bound.py:334: RuntimeWarning: invalid value encountered in subtract\n",
      "  power_3_term_numer = 1 + self._z / 3 * np.sqrt(fnr / tp + tnr / fp -\n",
      "c:\\users\\albert salles\\documents\\personal\\mtu\\privacy\\tensorflow_privacy\\privacy\\privacy_tests\\epsilon_lower_bound.py:334: RuntimeWarning: divide by zero encountered in divide\n",
      "  power_3_term_numer = 1 + self._z / 3 * np.sqrt(fnr / tp + tnr / fp -\n",
      "c:\\users\\albert salles\\documents\\personal\\mtu\\privacy\\tensorflow_privacy\\privacy\\privacy_tests\\epsilon_lower_bound.py:335: RuntimeWarning: divide by zero encountered in divide\n",
      "  (self._z**2 * fnr * tnr) /\n",
      "c:\\users\\albert salles\\documents\\personal\\mtu\\privacy\\tensorflow_privacy\\privacy\\privacy_tests\\epsilon_lower_bound.py:334: RuntimeWarning: invalid value encountered in subtract\n",
      "  power_3_term_numer = 1 + self._z / 3 * np.sqrt(fnr / tp + tnr / fp -\n",
      "c:\\users\\albert salles\\documents\\personal\\mtu\\privacy\\tensorflow_privacy\\privacy\\privacy_tests\\epsilon_lower_bound.py:334: RuntimeWarning: divide by zero encountered in divide\n",
      "  power_3_term_numer = 1 + self._z / 3 * np.sqrt(fnr / tp + tnr / fp -\n",
      "c:\\users\\albert salles\\documents\\personal\\mtu\\privacy\\tensorflow_privacy\\privacy\\privacy_tests\\epsilon_lower_bound.py:335: RuntimeWarning: divide by zero encountered in divide\n",
      "  (self._z**2 * fnr * tnr) /\n",
      "c:\\users\\albert salles\\documents\\personal\\mtu\\privacy\\tensorflow_privacy\\privacy\\privacy_tests\\epsilon_lower_bound.py:334: RuntimeWarning: invalid value encountered in subtract\n",
      "  power_3_term_numer = 1 + self._z / 3 * np.sqrt(fnr / tp + tnr / fp -\n",
      "c:\\users\\albert salles\\documents\\personal\\mtu\\privacy\\tensorflow_privacy\\privacy\\privacy_tests\\epsilon_lower_bound.py:334: RuntimeWarning: divide by zero encountered in divide\n",
      "  power_3_term_numer = 1 + self._z / 3 * np.sqrt(fnr / tp + tnr / fp -\n",
      "c:\\users\\albert salles\\documents\\personal\\mtu\\privacy\\tensorflow_privacy\\privacy\\privacy_tests\\epsilon_lower_bound.py:335: RuntimeWarning: divide by zero encountered in divide\n",
      "  (self._z**2 * fnr * tnr) /\n",
      "c:\\users\\albert salles\\documents\\personal\\mtu\\privacy\\tensorflow_privacy\\privacy\\privacy_tests\\epsilon_lower_bound.py:334: RuntimeWarning: invalid value encountered in subtract\n",
      "  power_3_term_numer = 1 + self._z / 3 * np.sqrt(fnr / tp + tnr / fp -\n",
      "c:\\users\\albert salles\\documents\\personal\\mtu\\privacy\\tensorflow_privacy\\privacy\\privacy_tests\\epsilon_lower_bound.py:334: RuntimeWarning: divide by zero encountered in divide\n",
      "  power_3_term_numer = 1 + self._z / 3 * np.sqrt(fnr / tp + tnr / fp -\n",
      "c:\\users\\albert salles\\documents\\personal\\mtu\\privacy\\tensorflow_privacy\\privacy\\privacy_tests\\epsilon_lower_bound.py:335: RuntimeWarning: divide by zero encountered in divide\n",
      "  (self._z**2 * fnr * tnr) /\n",
      "c:\\users\\albert salles\\documents\\personal\\mtu\\privacy\\tensorflow_privacy\\privacy\\privacy_tests\\epsilon_lower_bound.py:334: RuntimeWarning: invalid value encountered in subtract\n",
      "  power_3_term_numer = 1 + self._z / 3 * np.sqrt(fnr / tp + tnr / fp -\n",
      "c:\\users\\albert salles\\documents\\personal\\mtu\\privacy\\tensorflow_privacy\\privacy\\privacy_tests\\epsilon_lower_bound.py:334: RuntimeWarning: divide by zero encountered in divide\n",
      "  power_3_term_numer = 1 + self._z / 3 * np.sqrt(fnr / tp + tnr / fp -\n",
      "c:\\users\\albert salles\\documents\\personal\\mtu\\privacy\\tensorflow_privacy\\privacy\\privacy_tests\\epsilon_lower_bound.py:335: RuntimeWarning: divide by zero encountered in divide\n",
      "  (self._z**2 * fnr * tnr) /\n",
      "c:\\users\\albert salles\\documents\\personal\\mtu\\privacy\\tensorflow_privacy\\privacy\\privacy_tests\\epsilon_lower_bound.py:334: RuntimeWarning: invalid value encountered in subtract\n",
      "  power_3_term_numer = 1 + self._z / 3 * np.sqrt(fnr / tp + tnr / fp -\n",
      "c:\\users\\albert salles\\documents\\personal\\mtu\\privacy\\tensorflow_privacy\\privacy\\privacy_tests\\epsilon_lower_bound.py:334: RuntimeWarning: divide by zero encountered in divide\n",
      "  power_3_term_numer = 1 + self._z / 3 * np.sqrt(fnr / tp + tnr / fp -\n",
      "c:\\users\\albert salles\\documents\\personal\\mtu\\privacy\\tensorflow_privacy\\privacy\\privacy_tests\\epsilon_lower_bound.py:335: RuntimeWarning: divide by zero encountered in divide\n",
      "  (self._z**2 * fnr * tnr) /\n",
      "c:\\users\\albert salles\\documents\\personal\\mtu\\privacy\\tensorflow_privacy\\privacy\\privacy_tests\\epsilon_lower_bound.py:334: RuntimeWarning: invalid value encountered in subtract\n",
      "  power_3_term_numer = 1 + self._z / 3 * np.sqrt(fnr / tp + tnr / fp -\n",
      "c:\\users\\albert salles\\documents\\personal\\mtu\\privacy\\tensorflow_privacy\\privacy\\privacy_tests\\epsilon_lower_bound.py:334: RuntimeWarning: divide by zero encountered in divide\n",
      "  power_3_term_numer = 1 + self._z / 3 * np.sqrt(fnr / tp + tnr / fp -\n",
      "c:\\users\\albert salles\\documents\\personal\\mtu\\privacy\\tensorflow_privacy\\privacy\\privacy_tests\\epsilon_lower_bound.py:335: RuntimeWarning: divide by zero encountered in divide\n",
      "  (self._z**2 * fnr * tnr) /\n",
      "c:\\users\\albert salles\\documents\\personal\\mtu\\privacy\\tensorflow_privacy\\privacy\\privacy_tests\\epsilon_lower_bound.py:334: RuntimeWarning: invalid value encountered in subtract\n",
      "  power_3_term_numer = 1 + self._z / 3 * np.sqrt(fnr / tp + tnr / fp -\n",
      "c:\\users\\albert salles\\documents\\personal\\mtu\\privacy\\tensorflow_privacy\\privacy\\privacy_tests\\epsilon_lower_bound.py:334: RuntimeWarning: divide by zero encountered in divide\n",
      "  power_3_term_numer = 1 + self._z / 3 * np.sqrt(fnr / tp + tnr / fp -\n",
      "c:\\users\\albert salles\\documents\\personal\\mtu\\privacy\\tensorflow_privacy\\privacy\\privacy_tests\\epsilon_lower_bound.py:335: RuntimeWarning: divide by zero encountered in divide\n",
      "  (self._z**2 * fnr * tnr) /\n",
      "c:\\users\\albert salles\\documents\\personal\\mtu\\privacy\\tensorflow_privacy\\privacy\\privacy_tests\\epsilon_lower_bound.py:334: RuntimeWarning: invalid value encountered in subtract\n",
      "  power_3_term_numer = 1 + self._z / 3 * np.sqrt(fnr / tp + tnr / fp -\n",
      "c:\\users\\albert salles\\documents\\personal\\mtu\\privacy\\tensorflow_privacy\\privacy\\privacy_tests\\epsilon_lower_bound.py:334: RuntimeWarning: divide by zero encountered in divide\n",
      "  power_3_term_numer = 1 + self._z / 3 * np.sqrt(fnr / tp + tnr / fp -\n",
      "c:\\users\\albert salles\\documents\\personal\\mtu\\privacy\\tensorflow_privacy\\privacy\\privacy_tests\\epsilon_lower_bound.py:335: RuntimeWarning: divide by zero encountered in divide\n",
      "  (self._z**2 * fnr * tnr) /\n",
      "c:\\users\\albert salles\\documents\\personal\\mtu\\privacy\\tensorflow_privacy\\privacy\\privacy_tests\\epsilon_lower_bound.py:334: RuntimeWarning: invalid value encountered in subtract\n",
      "  power_3_term_numer = 1 + self._z / 3 * np.sqrt(fnr / tp + tnr / fp -\n",
      "c:\\users\\albert salles\\documents\\personal\\mtu\\privacy\\tensorflow_privacy\\privacy\\privacy_tests\\epsilon_lower_bound.py:334: RuntimeWarning: divide by zero encountered in divide\n",
      "  power_3_term_numer = 1 + self._z / 3 * np.sqrt(fnr / tp + tnr / fp -\n",
      "c:\\users\\albert salles\\documents\\personal\\mtu\\privacy\\tensorflow_privacy\\privacy\\privacy_tests\\epsilon_lower_bound.py:335: RuntimeWarning: divide by zero encountered in divide\n",
      "  (self._z**2 * fnr * tnr) /\n",
      "c:\\users\\albert salles\\documents\\personal\\mtu\\privacy\\tensorflow_privacy\\privacy\\privacy_tests\\epsilon_lower_bound.py:334: RuntimeWarning: invalid value encountered in subtract\n",
      "  power_3_term_numer = 1 + self._z / 3 * np.sqrt(fnr / tp + tnr / fp -\n",
      "c:\\users\\albert salles\\documents\\personal\\mtu\\privacy\\tensorflow_privacy\\privacy\\privacy_tests\\epsilon_lower_bound.py:334: RuntimeWarning: divide by zero encountered in divide\n",
      "  power_3_term_numer = 1 + self._z / 3 * np.sqrt(fnr / tp + tnr / fp -\n",
      "c:\\users\\albert salles\\documents\\personal\\mtu\\privacy\\tensorflow_privacy\\privacy\\privacy_tests\\epsilon_lower_bound.py:335: RuntimeWarning: divide by zero encountered in divide\n",
      "  (self._z**2 * fnr * tnr) /\n",
      "c:\\users\\albert salles\\documents\\personal\\mtu\\privacy\\tensorflow_privacy\\privacy\\privacy_tests\\epsilon_lower_bound.py:334: RuntimeWarning: invalid value encountered in subtract\n",
      "  power_3_term_numer = 1 + self._z / 3 * np.sqrt(fnr / tp + tnr / fp -\n",
      "c:\\users\\albert salles\\documents\\personal\\mtu\\privacy\\tensorflow_privacy\\privacy\\privacy_tests\\epsilon_lower_bound.py:334: RuntimeWarning: divide by zero encountered in divide\n",
      "  power_3_term_numer = 1 + self._z / 3 * np.sqrt(fnr / tp + tnr / fp -\n",
      "c:\\users\\albert salles\\documents\\personal\\mtu\\privacy\\tensorflow_privacy\\privacy\\privacy_tests\\epsilon_lower_bound.py:335: RuntimeWarning: divide by zero encountered in divide\n",
      "  (self._z**2 * fnr * tnr) /\n",
      "c:\\users\\albert salles\\documents\\personal\\mtu\\privacy\\tensorflow_privacy\\privacy\\privacy_tests\\epsilon_lower_bound.py:334: RuntimeWarning: invalid value encountered in subtract\n",
      "  power_3_term_numer = 1 + self._z / 3 * np.sqrt(fnr / tp + tnr / fp -\n",
      "c:\\users\\albert salles\\documents\\personal\\mtu\\privacy\\tensorflow_privacy\\privacy\\privacy_tests\\epsilon_lower_bound.py:334: RuntimeWarning: divide by zero encountered in divide\n",
      "  power_3_term_numer = 1 + self._z / 3 * np.sqrt(fnr / tp + tnr / fp -\n",
      "c:\\users\\albert salles\\documents\\personal\\mtu\\privacy\\tensorflow_privacy\\privacy\\privacy_tests\\epsilon_lower_bound.py:335: RuntimeWarning: divide by zero encountered in divide\n",
      "  (self._z**2 * fnr * tnr) /\n",
      "c:\\users\\albert salles\\documents\\personal\\mtu\\privacy\\tensorflow_privacy\\privacy\\privacy_tests\\epsilon_lower_bound.py:334: RuntimeWarning: invalid value encountered in subtract\n",
      "  power_3_term_numer = 1 + self._z / 3 * np.sqrt(fnr / tp + tnr / fp -\n",
      "c:\\users\\albert salles\\documents\\personal\\mtu\\privacy\\tensorflow_privacy\\privacy\\privacy_tests\\epsilon_lower_bound.py:334: RuntimeWarning: divide by zero encountered in divide\n",
      "  power_3_term_numer = 1 + self._z / 3 * np.sqrt(fnr / tp + tnr / fp -\n",
      "c:\\users\\albert salles\\documents\\personal\\mtu\\privacy\\tensorflow_privacy\\privacy\\privacy_tests\\epsilon_lower_bound.py:335: RuntimeWarning: divide by zero encountered in divide\n",
      "  (self._z**2 * fnr * tnr) /\n",
      "c:\\users\\albert salles\\documents\\personal\\mtu\\privacy\\tensorflow_privacy\\privacy\\privacy_tests\\epsilon_lower_bound.py:334: RuntimeWarning: invalid value encountered in subtract\n",
      "  power_3_term_numer = 1 + self._z / 3 * np.sqrt(fnr / tp + tnr / fp -\n",
      "c:\\users\\albert salles\\documents\\personal\\mtu\\privacy\\tensorflow_privacy\\privacy\\privacy_tests\\epsilon_lower_bound.py:334: RuntimeWarning: divide by zero encountered in divide\n",
      "  power_3_term_numer = 1 + self._z / 3 * np.sqrt(fnr / tp + tnr / fp -\n",
      "c:\\users\\albert salles\\documents\\personal\\mtu\\privacy\\tensorflow_privacy\\privacy\\privacy_tests\\epsilon_lower_bound.py:335: RuntimeWarning: divide by zero encountered in divide\n",
      "  (self._z**2 * fnr * tnr) /\n",
      "c:\\users\\albert salles\\documents\\personal\\mtu\\privacy\\tensorflow_privacy\\privacy\\privacy_tests\\epsilon_lower_bound.py:334: RuntimeWarning: invalid value encountered in subtract\n",
      "  power_3_term_numer = 1 + self._z / 3 * np.sqrt(fnr / tp + tnr / fp -\n",
      "c:\\users\\albert salles\\documents\\personal\\mtu\\privacy\\tensorflow_privacy\\privacy\\privacy_tests\\epsilon_lower_bound.py:334: RuntimeWarning: divide by zero encountered in divide\n",
      "  power_3_term_numer = 1 + self._z / 3 * np.sqrt(fnr / tp + tnr / fp -\n",
      "c:\\users\\albert salles\\documents\\personal\\mtu\\privacy\\tensorflow_privacy\\privacy\\privacy_tests\\epsilon_lower_bound.py:335: RuntimeWarning: divide by zero encountered in divide\n",
      "  (self._z**2 * fnr * tnr) /\n",
      "c:\\users\\albert salles\\documents\\personal\\mtu\\privacy\\tensorflow_privacy\\privacy\\privacy_tests\\epsilon_lower_bound.py:334: RuntimeWarning: invalid value encountered in subtract\n",
      "  power_3_term_numer = 1 + self._z / 3 * np.sqrt(fnr / tp + tnr / fp -\n",
      "c:\\users\\albert salles\\documents\\personal\\mtu\\privacy\\tensorflow_privacy\\privacy\\privacy_tests\\epsilon_lower_bound.py:334: RuntimeWarning: divide by zero encountered in divide\n",
      "  power_3_term_numer = 1 + self._z / 3 * np.sqrt(fnr / tp + tnr / fp -\n",
      "c:\\users\\albert salles\\documents\\personal\\mtu\\privacy\\tensorflow_privacy\\privacy\\privacy_tests\\epsilon_lower_bound.py:335: RuntimeWarning: divide by zero encountered in divide\n",
      "  (self._z**2 * fnr * tnr) /\n",
      "c:\\users\\albert salles\\documents\\personal\\mtu\\privacy\\tensorflow_privacy\\privacy\\privacy_tests\\epsilon_lower_bound.py:334: RuntimeWarning: invalid value encountered in subtract\n",
      "  power_3_term_numer = 1 + self._z / 3 * np.sqrt(fnr / tp + tnr / fp -\n",
      "c:\\users\\albert salles\\documents\\personal\\mtu\\privacy\\tensorflow_privacy\\privacy\\privacy_tests\\epsilon_lower_bound.py:334: RuntimeWarning: divide by zero encountered in divide\n",
      "  power_3_term_numer = 1 + self._z / 3 * np.sqrt(fnr / tp + tnr / fp -\n",
      "c:\\users\\albert salles\\documents\\personal\\mtu\\privacy\\tensorflow_privacy\\privacy\\privacy_tests\\epsilon_lower_bound.py:335: RuntimeWarning: divide by zero encountered in divide\n",
      "  (self._z**2 * fnr * tnr) /\n",
      "c:\\users\\albert salles\\documents\\personal\\mtu\\privacy\\tensorflow_privacy\\privacy\\privacy_tests\\epsilon_lower_bound.py:334: RuntimeWarning: invalid value encountered in subtract\n",
      "  power_3_term_numer = 1 + self._z / 3 * np.sqrt(fnr / tp + tnr / fp -\n",
      "c:\\users\\albert salles\\documents\\personal\\mtu\\privacy\\tensorflow_privacy\\privacy\\privacy_tests\\epsilon_lower_bound.py:334: RuntimeWarning: divide by zero encountered in divide\n",
      "  power_3_term_numer = 1 + self._z / 3 * np.sqrt(fnr / tp + tnr / fp -\n",
      "c:\\users\\albert salles\\documents\\personal\\mtu\\privacy\\tensorflow_privacy\\privacy\\privacy_tests\\epsilon_lower_bound.py:335: RuntimeWarning: divide by zero encountered in divide\n",
      "  (self._z**2 * fnr * tnr) /\n",
      "c:\\users\\albert salles\\documents\\personal\\mtu\\privacy\\tensorflow_privacy\\privacy\\privacy_tests\\epsilon_lower_bound.py:334: RuntimeWarning: invalid value encountered in subtract\n",
      "  power_3_term_numer = 1 + self._z / 3 * np.sqrt(fnr / tp + tnr / fp -\n",
      "c:\\users\\albert salles\\documents\\personal\\mtu\\privacy\\tensorflow_privacy\\privacy\\privacy_tests\\epsilon_lower_bound.py:334: RuntimeWarning: divide by zero encountered in divide\n",
      "  power_3_term_numer = 1 + self._z / 3 * np.sqrt(fnr / tp + tnr / fp -\n",
      "c:\\users\\albert salles\\documents\\personal\\mtu\\privacy\\tensorflow_privacy\\privacy\\privacy_tests\\epsilon_lower_bound.py:335: RuntimeWarning: divide by zero encountered in divide\n",
      "  (self._z**2 * fnr * tnr) /\n",
      "c:\\users\\albert salles\\documents\\personal\\mtu\\privacy\\tensorflow_privacy\\privacy\\privacy_tests\\epsilon_lower_bound.py:334: RuntimeWarning: invalid value encountered in subtract\n",
      "  power_3_term_numer = 1 + self._z / 3 * np.sqrt(fnr / tp + tnr / fp -\n",
      "c:\\users\\albert salles\\documents\\personal\\mtu\\privacy\\tensorflow_privacy\\privacy\\privacy_tests\\epsilon_lower_bound.py:334: RuntimeWarning: divide by zero encountered in divide\n",
      "  power_3_term_numer = 1 + self._z / 3 * np.sqrt(fnr / tp + tnr / fp -\n",
      "c:\\users\\albert salles\\documents\\personal\\mtu\\privacy\\tensorflow_privacy\\privacy\\privacy_tests\\epsilon_lower_bound.py:335: RuntimeWarning: divide by zero encountered in divide\n",
      "  (self._z**2 * fnr * tnr) /\n",
      "c:\\users\\albert salles\\documents\\personal\\mtu\\privacy\\tensorflow_privacy\\privacy\\privacy_tests\\epsilon_lower_bound.py:334: RuntimeWarning: invalid value encountered in subtract\n",
      "  power_3_term_numer = 1 + self._z / 3 * np.sqrt(fnr / tp + tnr / fp -\n",
      "c:\\users\\albert salles\\documents\\personal\\mtu\\privacy\\tensorflow_privacy\\privacy\\privacy_tests\\epsilon_lower_bound.py:334: RuntimeWarning: divide by zero encountered in divide\n",
      "  power_3_term_numer = 1 + self._z / 3 * np.sqrt(fnr / tp + tnr / fp -\n",
      "c:\\users\\albert salles\\documents\\personal\\mtu\\privacy\\tensorflow_privacy\\privacy\\privacy_tests\\epsilon_lower_bound.py:335: RuntimeWarning: divide by zero encountered in divide\n",
      "  (self._z**2 * fnr * tnr) /\n",
      "c:\\users\\albert salles\\documents\\personal\\mtu\\privacy\\tensorflow_privacy\\privacy\\privacy_tests\\epsilon_lower_bound.py:334: RuntimeWarning: invalid value encountered in subtract\n",
      "  power_3_term_numer = 1 + self._z / 3 * np.sqrt(fnr / tp + tnr / fp -\n",
      "c:\\users\\albert salles\\documents\\personal\\mtu\\privacy\\tensorflow_privacy\\privacy\\privacy_tests\\epsilon_lower_bound.py:334: RuntimeWarning: divide by zero encountered in divide\n",
      "  power_3_term_numer = 1 + self._z / 3 * np.sqrt(fnr / tp + tnr / fp -\n",
      "c:\\users\\albert salles\\documents\\personal\\mtu\\privacy\\tensorflow_privacy\\privacy\\privacy_tests\\epsilon_lower_bound.py:335: RuntimeWarning: divide by zero encountered in divide\n",
      "  (self._z**2 * fnr * tnr) /\n",
      "c:\\users\\albert salles\\documents\\personal\\mtu\\privacy\\tensorflow_privacy\\privacy\\privacy_tests\\epsilon_lower_bound.py:334: RuntimeWarning: invalid value encountered in subtract\n",
      "  power_3_term_numer = 1 + self._z / 3 * np.sqrt(fnr / tp + tnr / fp -\n",
      "c:\\users\\albert salles\\documents\\personal\\mtu\\privacy\\tensorflow_privacy\\privacy\\privacy_tests\\epsilon_lower_bound.py:334: RuntimeWarning: divide by zero encountered in divide\n",
      "  power_3_term_numer = 1 + self._z / 3 * np.sqrt(fnr / tp + tnr / fp -\n",
      "c:\\users\\albert salles\\documents\\personal\\mtu\\privacy\\tensorflow_privacy\\privacy\\privacy_tests\\epsilon_lower_bound.py:335: RuntimeWarning: divide by zero encountered in divide\n",
      "  (self._z**2 * fnr * tnr) /\n",
      "c:\\users\\albert salles\\documents\\personal\\mtu\\privacy\\tensorflow_privacy\\privacy\\privacy_tests\\epsilon_lower_bound.py:334: RuntimeWarning: invalid value encountered in subtract\n",
      "  power_3_term_numer = 1 + self._z / 3 * np.sqrt(fnr / tp + tnr / fp -\n",
      "c:\\users\\albert salles\\documents\\personal\\mtu\\privacy\\tensorflow_privacy\\privacy\\privacy_tests\\epsilon_lower_bound.py:334: RuntimeWarning: divide by zero encountered in divide\n",
      "  power_3_term_numer = 1 + self._z / 3 * np.sqrt(fnr / tp + tnr / fp -\n",
      "c:\\users\\albert salles\\documents\\personal\\mtu\\privacy\\tensorflow_privacy\\privacy\\privacy_tests\\epsilon_lower_bound.py:335: RuntimeWarning: divide by zero encountered in divide\n",
      "  (self._z**2 * fnr * tnr) /\n",
      "c:\\users\\albert salles\\documents\\personal\\mtu\\privacy\\tensorflow_privacy\\privacy\\privacy_tests\\epsilon_lower_bound.py:334: RuntimeWarning: invalid value encountered in subtract\n",
      "  power_3_term_numer = 1 + self._z / 3 * np.sqrt(fnr / tp + tnr / fp -\n"
     ]
    },
    {
     "data": {
      "image/png": "[encoded data removed]",
      "text/plain": [
       "<Figure size 640x480 with 1 Axes>"
      ]
     },
     "metadata": {},
     "output_type": "display_data"
    }
   ],
   "source": [
    "from services.eval_privacy import compute_mia_attacks\n",
    "\n",
    "attacks_results, fig = compute_mia_attacks(model=loaded_model, X_train=X_train_final_res, X_test=X_test_final, y_train=y_train_final_res, y_test=y_test_final)"
   ]
  },
  {
   "cell_type": "code",
   "execution_count": 6,
   "metadata": {},
   "outputs": [
    {
     "name": "stdout",
     "output_type": "stream",
     "text": [
      "           slice feature slice value  train size  test size  \\\n",
      "0         Entire dataset                  252487      76137   \n",
      "1         Entire dataset                  252487      76137   \n",
      "2                  class           0      201990      74280   \n",
      "3                  class           0      201990      74280   \n",
      "..                   ...         ...         ...        ...   \n",
      "26  correctly_classified        True      201990      74280   \n",
      "27  correctly_classified        True      201990      74280   \n",
      "28  correctly_classified       False       50497       1857   \n",
      "29  correctly_classified       False       50497       1857   \n",
      "\n",
      "            attack type  Attacker advantage  Positive predictive value  \\\n",
      "0      THRESHOLD_ATTACK            0.244297                   0.768497   \n",
      "1   LOGISTIC_REGRESSION            0.297346                   1.000000   \n",
      "2      THRESHOLD_ATTACK            0.221590                   0.731133   \n",
      "3   LOGISTIC_REGRESSION            0.234977                   0.871245   \n",
      "..                  ...                 ...                        ...   \n",
      "26     THRESHOLD_ATTACK            0.221590                   0.731133   \n",
      "27  LOGISTIC_REGRESSION            0.244410                   0.996032   \n",
      "28     THRESHOLD_ATTACK            0.325350                   1.000000   \n",
      "29  LOGISTIC_REGRESSION            0.326420                   1.000000   \n",
      "\n",
      "         AUC  Epsilon lower bound_1  Epsilon lower bound_2  \\\n",
      "0   0.337087               1.814872               1.797166   \n",
      "1   0.706466               4.037508               4.035605   \n",
      "2   0.352904               3.350474               3.345854   \n",
      "3   0.645259               1.842980               1.827169   \n",
      "..       ...                    ...                    ...   \n",
      "26  0.352904               3.350474               3.345854   \n",
      "27  0.639053               3.538948               3.536947   \n",
      "28  0.721909               3.096644               3.096049   \n",
      "29  0.725562               2.921859               2.920612   \n",
      "\n",
      "    Epsilon lower bound_3  Epsilon lower bound_4  Epsilon lower bound_5  \n",
      "0                1.779142               1.760787               1.742088  \n",
      "1                4.033699               4.031788               4.029874  \n",
      "2                3.341213               3.336551               3.331866  \n",
      "3                1.811105               1.794778               1.778180  \n",
      "..                    ...                    ...                    ...  \n",
      "26               3.341213               3.336551               3.331866  \n",
      "27               3.534943               3.532934               3.530922  \n",
      "28               3.095455               3.094859               3.094264  \n",
      "29               2.919357               2.918525               2.917268  \n",
      "\n",
      "[30 rows x 13 columns]\n"
     ]
    }
   ],
   "source": [
    "import pandas as pd\n",
    "\n",
    "pd.set_option(\"display.max_rows\", 8, \"display.max_columns\", None)\n",
    "print(attacks_results.calculate_pd_dataframe())"
   ]
  },
  {
   "cell_type": "code",
   "execution_count": null,
   "metadata": {},
   "outputs": [],
   "source": []
  }
 ],
 "metadata": {
  "accelerator": "GPU",
  "colab": {
   "authorship_tag": "ABX9TyOMmETxQD2d7KiUpjSDU1F1",
   "gpuType": "T4",
   "mount_file_id": "1mJtX38Y9103-VU3j4l9xT5sEKs-FWCLl",
   "provenance": []
  },
  "kernelspec": {
   "display_name": "ds",
   "language": "python",
   "name": "python3"
  },
  "language_info": {
   "codemirror_mode": {
    "name": "ipython",
    "version": 3
   },
   "file_extension": ".py",
   "mimetype": "text/x-python",
   "name": "python",
   "nbconvert_exporter": "python",
   "pygments_lexer": "ipython3",
   "version": "3.9.21"
  }
 },
 "nbformat": 4,
 "nbformat_minor": 0
}
