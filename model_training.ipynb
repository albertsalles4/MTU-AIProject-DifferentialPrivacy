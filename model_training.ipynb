{
 "cells": [
  {
   "cell_type": "code",
   "execution_count": 9,
   "metadata": {},
   "outputs": [
    {
     "name": "stdout",
     "output_type": "stream",
     "text": [
      "Running <class 'keras.src.initializers.initializers.RandomNormal'>\n",
      "\tIteration --> 0 // Result --> 0.000790853810030967\n",
      "\tIteration --> 1 // Result --> 0.000790853810030967\n",
      "\n",
      "\n",
      "Running <class 'keras.src.initializers.initializers.RandomUniform'>\n",
      "\tIteration --> 0 // Result --> -0.02175668440759182\n",
      "\tIteration --> 1 // Result --> -0.02175668440759182\n",
      "\n",
      "\n",
      "Running <class 'keras.src.initializers.initializers.TruncatedNormal'>\n",
      "\tIteration --> 0 // Result --> 0.000790853810030967\n",
      "\tIteration --> 1 // Result --> 0.000790853810030967\n",
      "\n",
      "\n",
      "Running <class 'keras.src.initializers.initializers.VarianceScaling'>\n",
      "\tIteration --> 0 // Result --> 0.017981600016355515\n",
      "\tIteration --> 1 // Result --> 0.017981600016355515\n",
      "\n",
      "\n",
      "Running <class 'keras.src.initializers.initializers.GlorotNormal'>\n",
      "\tIteration --> 0 // Result --> 0.017981600016355515\n",
      "\tIteration --> 1 // Result --> 0.017981600016355515\n",
      "\n",
      "\n",
      "Running <class 'keras.src.initializers.initializers.GlorotUniform'>\n",
      "\tIteration --> 0 // Result --> -0.7536736726760864\n",
      "\tIteration --> 1 // Result --> -0.7536736726760864\n",
      "\n",
      "\n",
      "Running <class 'keras.src.initializers.initializers.HeNormal'>\n",
      "\tIteration --> 0 // Result --> 0.025429822504520416\n",
      "\tIteration --> 1 // Result --> 0.025429822504520416\n",
      "\n",
      "\n",
      "Running <class 'keras.src.initializers.initializers.HeUniform'>\n",
      "\tIteration --> 0 // Result --> -1.065855622291565\n",
      "\tIteration --> 1 // Result --> -1.065855622291565\n",
      "\n",
      "\n",
      "Running <class 'keras.src.initializers.initializers.LecunNormal'>\n",
      "\tIteration --> 0 // Result --> 0.017981600016355515\n",
      "\tIteration --> 1 // Result --> 0.017981600016355515\n",
      "\n",
      "\n",
      "Running <class 'keras.src.initializers.initializers.LecunUniform'>\n",
      "\tIteration --> 0 // Result --> -0.7536736726760864\n",
      "\tIteration --> 1 // Result --> -0.7536736726760864\n",
      "\n",
      "\n",
      "Running <class 'keras.src.initializers.initializers.Orthogonal'>\n",
      "\tIteration --> 0 // Result --> 1.0\n",
      "\tIteration --> 1 // Result --> 1.0\n",
      "\n",
      "\n"
     ]
    }
   ],
   "source": [
    "import json\n",
    "import numpy as np\n",
    "import tensorflow as tf\n",
    "import keras\n",
    "from keras import layers\n",
    "from keras import initializers\n",
    "\n",
    "# Set the seed using keras.utils.set_random_seed. This will set:\n",
    "# 1) `numpy` seed\n",
    "# 2) backend random seed\n",
    "# 3) `python` random seed\n",
    "keras.utils.set_random_seed(42)\n",
    "\n",
    "# If using TensorFlow, this will make GPU ops as deterministic as possible,\n",
    "# but it will affect the overall performance, so be mindful of that.\n",
    "tf.config.experimental.enable_op_determinism()\n",
    "\n",
    "initializers_list = [\n",
    "    initializers.RandomNormal,\n",
    "    initializers.RandomUniform,\n",
    "    initializers.TruncatedNormal,\n",
    "    initializers.VarianceScaling,\n",
    "    initializers.GlorotNormal,\n",
    "    initializers.GlorotUniform,\n",
    "    initializers.HeNormal,\n",
    "    initializers.HeUniform,\n",
    "    initializers.LecunNormal,\n",
    "    initializers.LecunUniform,\n",
    "    initializers.Orthogonal,\n",
    "]\n",
    "\n",
    "for initializer in initializers_list:\n",
    "    print(f\"Running {initializer}\")\n",
    "\n",
    "    for iteration in range(2):\n",
    "        # In order to get same results across multiple runs from an initializer,\n",
    "        # you can specify a seed value.\n",
    "        result = float(initializer(seed=42)(shape=(1, 1)))\n",
    "        print(f\"\\tIteration --> {iteration} // Result --> {result}\")\n",
    "    print(\"\\n\")"
   ]
  },
  {
   "cell_type": "code",
   "execution_count": 10,
   "metadata": {},
   "outputs": [],
   "source": [
    "from services.load_dataset import load_data\n",
    "from services.modeling import run_tuner\n",
    "import numpy as np\n",
    "\n",
    "\n",
    "\n",
    "X_train, X_val, X_test, y_train, y_val, y_test  = load_data(data_folder='data')"
   ]
  },
  {
   "cell_type": "code",
   "execution_count": 11,
   "metadata": {},
   "outputs": [
    {
     "name": "stdout",
     "output_type": "stream",
     "text": [
      "Trial 10 Complete [00h 10m 04s]\n",
      "val_recall: 0.7182320356369019\n",
      "\n",
      "Best val_recall So Far: 0.7403314709663391\n",
      "Total elapsed time: 19h 19m 49s\n",
      "Best Model Evaluation on Test Set:\n",
      "Loss: 0.0319\n",
      "Accuracy: 0.9944\n",
      "Precision: 0.5415\n",
      "Recall: 0.7541\n",
      "AUC: 0.9077\n",
      "\n",
      "All Trial Results:\n",
      "Trial ID: 03, Score: 0.7182320356369019, Hyperparameters: {'sequence_length': 5, 'units_lstm1': 64, 'dropout1': 0.5, 'units_lstm2': 32, 'dropout2': 0.30000000000000004, 'learning_rate': 4.560117122127546e-06, 'run_time': 595.0961759090424}\n",
      "Trial ID: 02, Score: 0.12481202930212021, Hyperparameters: {'sequence_length': 20, 'units_lstm1': 32, 'dropout1': 0.5, 'units_lstm2': 16, 'dropout2': 0.30000000000000004, 'learning_rate': 7.883914384218181e-07, 'run_time': 1105.2924149036407}\n",
      "Trial ID: 01, Score: 0.6867815852165222, Hyperparameters: {'sequence_length': 10, 'units_lstm1': 32, 'dropout1': 0.30000000000000004, 'units_lstm2': 16, 'dropout2': 0.5, 'learning_rate': 2.9414800463547567e-05, 'run_time': 728.2369453907013}\n",
      "Trial ID: 05, Score: 0.6906077265739441, Hyperparameters: {'sequence_length': 5, 'units_lstm1': 64, 'dropout1': 0.5, 'units_lstm2': 32, 'dropout2': 0.2, 'learning_rate': 0.00015720323411724457, 'run_time': 600.5489223003387}\n",
      "Trial ID: 06, Score: 0.48120301961898804, Hyperparameters: {'sequence_length': 20, 'units_lstm1': 32, 'dropout1': 0.2, 'units_lstm2': 48, 'dropout2': 0.1, 'learning_rate': 9.652163706653266e-06, 'run_time': 1231.0391857624054}\n",
      "Trial ID: 00, Score: 0.5488505959510803, Hyperparameters: {'sequence_length': 10, 'units_lstm1': 32, 'dropout1': 0.30000000000000004, 'units_lstm2': 32, 'dropout2': 0.5, 'learning_rate': 2.5549654007576828e-06, 'run_time': 715.3604774475098}\n",
      "Trial ID: 08, Score: 0.7403314709663391, Hyperparameters: {'sequence_length': 5, 'units_lstm1': 32, 'dropout1': 0.30000000000000004, 'units_lstm2': 64, 'dropout2': 0.30000000000000004, 'learning_rate': 0.00010981101687758641, 'run_time': 655.8090426921844}\n",
      "Trial ID: 04, Score: 0.6132596731185913, Hyperparameters: {'sequence_length': 5, 'units_lstm1': 32, 'dropout1': 0.4, 'units_lstm2': 48, 'dropout2': 0.5, 'learning_rate': 1.9724835195225073e-06, 'run_time': 574.6399261951447}\n",
      "Trial ID: 07, Score: 0.5879698991775513, Hyperparameters: {'sequence_length': 20, 'units_lstm1': 32, 'dropout1': 0.4, 'units_lstm2': 16, 'dropout2': 0.2, 'learning_rate': 2.1103896995739087e-07, 'run_time': 1257.061317205429}\n",
      "Trial ID: 09, Score: 0.7182320356369019, Hyperparameters: {'sequence_length': 5, 'units_lstm1': 128, 'dropout1': 0.5, 'units_lstm2': 64, 'dropout2': 0.4, 'learning_rate': 9.68116982915963e-07, 'run_time': 604.0520179271698}\n",
      "\n",
      "Best Hyperparameters:\n",
      "{'sequence_length': 5, 'units_lstm1': 32, 'dropout1': 0.30000000000000004, 'units_lstm2': 64, 'dropout2': 0.30000000000000004, 'learning_rate': 0.00010981101687758641, 'run_time': 655.8090426921844}\n"
     ]
    }
   ],
   "source": [
    "best_model, best_hp, X_train_final_res, y_train_final_res, X_test_final, y_test_final = run_tuner(\n",
    "    X_train=np.concatenate((X_train, X_val), axis=0),\n",
    "    X_test=X_test,\n",
    "    y_train=np.concatenate((y_train, y_val), axis=0),\n",
    "    y_test=y_test\n",
    ")"
   ]
  },
  {
   "cell_type": "code",
   "execution_count": 4,
   "metadata": {
    "executionInfo": {
     "elapsed": 65,
     "status": "ok",
     "timestamp": 1741810334399,
     "user": {
      "displayName": "Albert SallesTorruella",
      "userId": "17599184012787070764"
     },
     "user_tz": -60
    },
    "id": "9d0OY9ov9Zr_"
   },
   "outputs": [],
   "source": [
    "import pickle\n",
    "best_model.save('model/base_lstm_model.keras')\n",
    "pickle.dump(best_hp, open('model/best_hp.pkl', 'wb'))"
   ]
  },
  {
   "cell_type": "code",
   "execution_count": 12,
   "metadata": {
    "colab": {
     "base_uri": "https://localhost:8080/",
     "height": 360
    },
    "executionInfo": {
     "elapsed": 138,
     "status": "ok",
     "timestamp": 1741810365520,
     "user": {
      "displayName": "Albert SallesTorruella",
      "userId": "17599184012787070764"
     },
     "user_tz": -60
    },
    "id": "i1J5uGUFZQB4",
    "outputId": "52e61398-9985-4a1a-917b-37a2b3b5d477"
   },
   "outputs": [
    {
     "name": "stderr",
     "output_type": "stream",
     "text": [
      "WARNING:absl:Skipping variable loading for optimizer 'Adam', because it has 17 variables whereas the saved optimizer has 1 variables. \n"
     ]
    },
    {
     "name": "stdout",
     "output_type": "stream",
     "text": [
      "Model: \"sequential\"\n",
      "_________________________________________________________________\n",
      " Layer (type)                Output Shape              Param #   \n",
      "=================================================================\n",
      " lstm (LSTM)                 (None, 5, 32)             7936      \n",
      "                                                                 \n",
      " dropout (Dropout)           (None, 5, 32)             0         \n",
      "                                                                 \n",
      " lstm_1 (LSTM)               (None, 64)                24832     \n",
      "                                                                 \n",
      " dropout_1 (Dropout)         (None, 64)                0         \n",
      "                                                                 \n",
      " dense (Dense)               (None, 1)                 65        \n",
      "                                                                 \n",
      "=================================================================\n",
      "Total params: 32833 (128.25 KB)\n",
      "Trainable params: 32833 (128.25 KB)\n",
      "Non-trainable params: 0 (0.00 Byte)\n",
      "_________________________________________________________________\n"
     ]
    }
   ],
   "source": [
    "from tensorflow.keras.models import load_model\n",
    "\n",
    "# Load the saved model\n",
    "loaded_model = load_model('model/base_lstm_model.keras')\n",
    "\n",
    "# Check the model architecture\n",
    "loaded_model.summary()\n"
   ]
  },
  {
   "cell_type": "code",
   "execution_count": 20,
   "metadata": {},
   "outputs": [
    {
     "name": "stdout",
     "output_type": "stream",
     "text": [
      "Reloading Tuner from hyperparam_tuning\\credit_card_fraud_lstm_precision\\tuner0.json\n",
      "Best Trial Based on F1 Score:\n",
      "Trial ID: 04\n",
      "F1 Score: 0.6792452633599452\n",
      "val_recall: 0.5966851115226746\n",
      "val_precision: 0.7883211970329285\n",
      "Hyperparameters: {'sequence_length': 5, 'units_lstm1': 128, 'dropout1': 0.4, 'units_lstm2': 32, 'dropout2': 0.1, 'learning_rate': 1.3689316316414068e-06}\n"
     ]
    }
   ],
   "source": [
    "from services.modeling import *\n",
    "from keras_tuner.engine.hyperparameters import HyperParameters\n",
    "\n",
    "hypermodel = LSTMHyperModel(X_train=X_train, labels=y_train)\n",
    "# Load the tuner results\n",
    "tuner = kt.RandomSearch(\n",
    "    hypermodel,\n",
    "    objective=kt.Objective('val_recall', direction='max'),\n",
    "    max_trials=10,         # Increase for a more thorough search\n",
    "    executions_per_trial=1,\n",
    "    directory='hyperparam_tuning',\n",
    "    project_name='credit_card_fraud_lstm_precision'\n",
    ")\n",
    "\n",
    "# Load the search results\n",
    "tuner.reload()\n",
    "\n",
    "# Extract trial results\n",
    "trials = tuner.oracle.trials\n",
    "\n",
    "# Collect val_recall, val_precision, and compute F1 score\n",
    "f1_results = []\n",
    "for trial_id, trial in trials.items():\n",
    "    val_recall = trial.metrics.get_history(\"val_recall\")[-1].value[0]  # Get the last recorded val_recall\n",
    "    val_precision = trial.metrics.get_history(\"val_precision\")[-1].value[0]  # Get the last recorded val_precision\n",
    "    \n",
    "    # Compute F1 score\n",
    "    f1_score = 2 * (val_precision * val_recall) / (val_precision + val_recall + 1e-7)  # Add small epsilon to avoid division by zero\n",
    "    \n",
    "    f1_results.append({\n",
    "        \"trial_id\": trial_id,\n",
    "        \"f1_score\": f1_score,\n",
    "        \"val_recall\": val_recall,\n",
    "        \"val_precision\": val_precision,\n",
    "        \"hyperparameters\": trial.hyperparameters.values\n",
    "    })\n",
    "\n",
    "# Sort trials by F1 score (descending order)\n",
    "f1_results.sort(key=lambda x: x[\"f1_score\"], reverse=True)\n",
    "\n",
    "# Get the best trial based on F1 score\n",
    "best_trial = f1_results[0]\n",
    "print(\"Best Trial Based on F1 Score:\")\n",
    "print(f\"Trial ID: {best_trial['trial_id']}\")\n",
    "print(f\"F1 Score: {best_trial['f1_score']}\")\n",
    "print(f\"val_recall: {best_trial['val_recall']}\")\n",
    "print(f\"val_precision: {best_trial['val_precision']}\")\n",
    "print(f\"Hyperparameters: {best_trial['hyperparameters']}\")\n",
    "\n",
    "# Convert the best hyperparameters dictionary to a HyperParameters object\n",
    "best_hp_dict = best_trial[\"hyperparameters\"]\n",
    "best_hp = HyperParameters()\n",
    "best_hp.values = best_hp_dict\n",
    "\n",
    "# Build the model using the HyperParameters object\n",
    "best_model = tuner.hypermodel.build(best_hp)"
   ]
  },
  {
   "cell_type": "code",
   "execution_count": 7,
   "metadata": {},
   "outputs": [
    {
     "ename": "NameError",
     "evalue": "name 'SMOTE' is not defined",
     "output_type": "error",
     "traceback": [
      "\u001b[1;31m---------------------------------------------------------------------------\u001b[0m",
      "\u001b[1;31mNameError\u001b[0m                                 Traceback (most recent call last)",
      "Cell \u001b[1;32mIn[7], line 12\u001b[0m\n\u001b[0;32m     10\u001b[0m n_samples, seq_len, n_features_local \u001b[38;5;241m=\u001b[39m X_train_final\u001b[38;5;241m.\u001b[39mshape\n\u001b[0;32m     11\u001b[0m X_train_final_flat \u001b[38;5;241m=\u001b[39m X_train_final\u001b[38;5;241m.\u001b[39mreshape(n_samples, seq_len \u001b[38;5;241m*\u001b[39m n_features_local)\n\u001b[1;32m---> 12\u001b[0m smote \u001b[38;5;241m=\u001b[39m \u001b[43mSMOTE\u001b[49m(random_state\u001b[38;5;241m=\u001b[39m\u001b[38;5;241m42\u001b[39m, sampling_strategy\u001b[38;5;241m=\u001b[39m\u001b[38;5;241m0.25\u001b[39m)\n\u001b[0;32m     13\u001b[0m X_train_final_res, y_train_final_res \u001b[38;5;241m=\u001b[39m smote\u001b[38;5;241m.\u001b[39mfit_resample(X_train_final_flat, y_train_final)\n\u001b[0;32m     14\u001b[0m X_train_final_res \u001b[38;5;241m=\u001b[39m X_train_final_res\u001b[38;5;241m.\u001b[39mreshape(\u001b[38;5;241m-\u001b[39m\u001b[38;5;241m1\u001b[39m, best_seq_length, n_features_local)\n",
      "\u001b[1;31mNameError\u001b[0m: name 'SMOTE' is not defined"
     ]
    }
   ],
   "source": [
    "from services.modeling import create_sequences\n",
    "\n",
    "best_seq_length = best_hp.get('sequence_length')\n",
    "X_t, y_t = np.concatenate((X_train, X_val), axis=0), np.concatenate((y_train, y_val), axis=0)\n",
    "# For final evaluation, generate a test set using the best sequence length.\n",
    "X_train_final, y_train_final = create_sequences(X_t, y_t, best_seq_length)\n",
    "X_test_final, y_test_final = create_sequences(X_test, y_test, best_seq_length)\n",
    "\n",
    "# Apply SMOTE on the training set\n",
    "n_samples, seq_len, n_features_local = X_train_final.shape\n",
    "X_train_final_flat = X_train_final.reshape(n_samples, seq_len * n_features_local)\n",
    "smote = SMOTE(random_state=42, sampling_strategy=0.25)\n",
    "X_train_final_res, y_train_final_res = smote.fit_resample(X_train_final_flat, y_train_final)\n",
    "X_train_final_res = X_train_final_res.reshape(-1, best_seq_length, n_features_local)\n",
    "\n",
    "# Retrieve the best model and evaluate on the test set\n",
    "loss, accuracy, precision, recall, auc_metric = best_model.evaluate(X_test_final, y_test_final, verbose=0)\n",
    "print(\"Best Model Evaluation on Test Set:\")\n",
    "print(f\"Loss: {loss:.4f}\")\n",
    "print(f\"Accuracy: {accuracy:.4f}\")\n",
    "print(f\"Precision: {precision:.4f}\")\n",
    "print(f\"Recall: {recall:.4f}\")\n",
    "print(f\"AUC: {auc_metric:.4f}\")\n",
    "\n",
    "\n",
    "# -----------------------------------------#\n",
    "# 5. Print All Trials and Best Parameters  #\n",
    "# -----------------------------------------#\n",
    "\n",
    "print(\"\\nAll Trial Results:\")\n",
    "for trial in tuner.oracle.trials.values():\n",
    "    # print f1_score\n",
    "    val_recall = trial.metrics.get_history(\"val_recall\")[-1].value[0]  # Get the last recorded val_recall\n",
    "    val_precision = trial.metrics.get_history(\"val_precision\")[-1].value[0]  # Get the last recorded val_precision\n",
    "    f1_score = 2 * (val_precision * val_recall) / (val_precision + val_recall + 1e-7)  # Add small epsilon to avoid division by zero\n",
    "    print(f\"Trial ID: {trial.trial_id}, Score: {f1_score}, Hyperparameters: {trial.hyperparameters.values}\")\n",
    "\n",
    "print(\"\\nBest Hyperparameters:\")\n",
    "print(best_hp.values)\n"
   ]
  },
  {
   "cell_type": "code",
   "execution_count": 24,
   "metadata": {},
   "outputs": [
    {
     "name": "stdout",
     "output_type": "stream",
     "text": [
      "Model: \"sequential_3\"\n",
      "_________________________________________________________________\n",
      " Layer (type)                Output Shape              Param #   \n",
      "=================================================================\n",
      " lstm_6 (LSTM)               (None, 5, 128)            80896     \n",
      "                                                                 \n",
      " dropout_6 (Dropout)         (None, 5, 128)            0         \n",
      "                                                                 \n",
      " lstm_7 (LSTM)               (None, 32)                20608     \n",
      "                                                                 \n",
      " dropout_7 (Dropout)         (None, 32)                0         \n",
      "                                                                 \n",
      " dense_3 (Dense)             (None, 1)                 33        \n",
      "                                                                 \n",
      "=================================================================\n",
      "Total params: 101537 (396.63 KB)\n",
      "Trainable params: 101537 (396.63 KB)\n",
      "Non-trainable params: 0 (0.00 Byte)\n",
      "_________________________________________________________________\n"
     ]
    }
   ],
   "source": [
    "best_model.summary()"
   ]
  },
  {
   "cell_type": "code",
   "execution_count": 14,
   "metadata": {},
   "outputs": [
    {
     "data": {
      "text/plain": [
       "(258552, 5, 29)"
      ]
     },
     "execution_count": 14,
     "metadata": {},
     "output_type": "execute_result"
    }
   ],
   "source": [
    "X_train_final_res.shape"
   ]
  },
  {
   "cell_type": "code",
   "execution_count": 15,
   "metadata": {},
   "outputs": [
    {
     "data": {
      "text/plain": [
       "(76152, 5, 29)"
      ]
     },
     "execution_count": 15,
     "metadata": {},
     "output_type": "execute_result"
    }
   ],
   "source": [
    "X_test_final.shape"
   ]
  },
  {
   "cell_type": "code",
   "execution_count": 17,
   "metadata": {},
   "outputs": [
    {
     "name": "stdout",
     "output_type": "stream",
     "text": [
      "2380/2380 [==============================] - 6s 3ms/step\n",
      "2380/2380 [==============================] - 6s 3ms/step\n"
     ]
    },
    {
     "name": "stderr",
     "output_type": "stream",
     "text": [
      "c:\\users\\albert salles\\documents\\personal\\mtu\\privacy\\tensorflow_privacy\\privacy\\privacy_tests\\epsilon_lower_bound.py:334: RuntimeWarning: divide by zero encountered in divide\n",
      "  power_3_term_numer = 1 + self._z / 3 * np.sqrt(fnr / tp + tnr / fp -\n",
      "c:\\users\\albert salles\\documents\\personal\\mtu\\privacy\\tensorflow_privacy\\privacy\\privacy_tests\\epsilon_lower_bound.py:335: RuntimeWarning: divide by zero encountered in divide\n",
      "  (self._z**2 * fnr * tnr) /\n",
      "c:\\users\\albert salles\\documents\\personal\\mtu\\privacy\\tensorflow_privacy\\privacy\\privacy_tests\\epsilon_lower_bound.py:334: RuntimeWarning: invalid value encountered in subtract\n",
      "  power_3_term_numer = 1 + self._z / 3 * np.sqrt(fnr / tp + tnr / fp -\n",
      "c:\\users\\albert salles\\documents\\personal\\mtu\\privacy\\tensorflow_privacy\\privacy\\privacy_tests\\epsilon_lower_bound.py:334: RuntimeWarning: divide by zero encountered in divide\n",
      "  power_3_term_numer = 1 + self._z / 3 * np.sqrt(fnr / tp + tnr / fp -\n",
      "c:\\users\\albert salles\\documents\\personal\\mtu\\privacy\\tensorflow_privacy\\privacy\\privacy_tests\\epsilon_lower_bound.py:335: RuntimeWarning: divide by zero encountered in divide\n",
      "  (self._z**2 * fnr * tnr) /\n",
      "c:\\users\\albert salles\\documents\\personal\\mtu\\privacy\\tensorflow_privacy\\privacy\\privacy_tests\\epsilon_lower_bound.py:334: RuntimeWarning: invalid value encountered in subtract\n",
      "  power_3_term_numer = 1 + self._z / 3 * np.sqrt(fnr / tp + tnr / fp -\n",
      "c:\\users\\albert salles\\documents\\personal\\mtu\\privacy\\tensorflow_privacy\\privacy\\privacy_tests\\epsilon_lower_bound.py:334: RuntimeWarning: divide by zero encountered in divide\n",
      "  power_3_term_numer = 1 + self._z / 3 * np.sqrt(fnr / tp + tnr / fp -\n",
      "c:\\users\\albert salles\\documents\\personal\\mtu\\privacy\\tensorflow_privacy\\privacy\\privacy_tests\\epsilon_lower_bound.py:335: RuntimeWarning: divide by zero encountered in divide\n",
      "  (self._z**2 * fnr * tnr) /\n",
      "c:\\users\\albert salles\\documents\\personal\\mtu\\privacy\\tensorflow_privacy\\privacy\\privacy_tests\\epsilon_lower_bound.py:334: RuntimeWarning: invalid value encountered in subtract\n",
      "  power_3_term_numer = 1 + self._z / 3 * np.sqrt(fnr / tp + tnr / fp -\n",
      "c:\\users\\albert salles\\documents\\personal\\mtu\\privacy\\tensorflow_privacy\\privacy\\privacy_tests\\epsilon_lower_bound.py:334: RuntimeWarning: divide by zero encountered in divide\n",
      "  power_3_term_numer = 1 + self._z / 3 * np.sqrt(fnr / tp + tnr / fp -\n",
      "c:\\users\\albert salles\\documents\\personal\\mtu\\privacy\\tensorflow_privacy\\privacy\\privacy_tests\\epsilon_lower_bound.py:335: RuntimeWarning: divide by zero encountered in divide\n",
      "  (self._z**2 * fnr * tnr) /\n",
      "c:\\users\\albert salles\\documents\\personal\\mtu\\privacy\\tensorflow_privacy\\privacy\\privacy_tests\\epsilon_lower_bound.py:334: RuntimeWarning: invalid value encountered in subtract\n",
      "  power_3_term_numer = 1 + self._z / 3 * np.sqrt(fnr / tp + tnr / fp -\n",
      "c:\\users\\albert salles\\documents\\personal\\mtu\\privacy\\tensorflow_privacy\\privacy\\privacy_tests\\epsilon_lower_bound.py:334: RuntimeWarning: divide by zero encountered in divide\n",
      "  power_3_term_numer = 1 + self._z / 3 * np.sqrt(fnr / tp + tnr / fp -\n",
      "c:\\users\\albert salles\\documents\\personal\\mtu\\privacy\\tensorflow_privacy\\privacy\\privacy_tests\\epsilon_lower_bound.py:335: RuntimeWarning: divide by zero encountered in divide\n",
      "  (self._z**2 * fnr * tnr) /\n",
      "c:\\users\\albert salles\\documents\\personal\\mtu\\privacy\\tensorflow_privacy\\privacy\\privacy_tests\\epsilon_lower_bound.py:334: RuntimeWarning: invalid value encountered in subtract\n",
      "  power_3_term_numer = 1 + self._z / 3 * np.sqrt(fnr / tp + tnr / fp -\n",
      "c:\\users\\albert salles\\documents\\personal\\mtu\\privacy\\tensorflow_privacy\\privacy\\privacy_tests\\epsilon_lower_bound.py:334: RuntimeWarning: divide by zero encountered in divide\n",
      "  power_3_term_numer = 1 + self._z / 3 * np.sqrt(fnr / tp + tnr / fp -\n",
      "c:\\users\\albert salles\\documents\\personal\\mtu\\privacy\\tensorflow_privacy\\privacy\\privacy_tests\\epsilon_lower_bound.py:335: RuntimeWarning: divide by zero encountered in divide\n",
      "  (self._z**2 * fnr * tnr) /\n",
      "c:\\users\\albert salles\\documents\\personal\\mtu\\privacy\\tensorflow_privacy\\privacy\\privacy_tests\\epsilon_lower_bound.py:334: RuntimeWarning: invalid value encountered in subtract\n",
      "  power_3_term_numer = 1 + self._z / 3 * np.sqrt(fnr / tp + tnr / fp -\n",
      "c:\\users\\albert salles\\documents\\personal\\mtu\\privacy\\tensorflow_privacy\\privacy\\privacy_tests\\epsilon_lower_bound.py:334: RuntimeWarning: divide by zero encountered in divide\n",
      "  power_3_term_numer = 1 + self._z / 3 * np.sqrt(fnr / tp + tnr / fp -\n",
      "c:\\users\\albert salles\\documents\\personal\\mtu\\privacy\\tensorflow_privacy\\privacy\\privacy_tests\\epsilon_lower_bound.py:335: RuntimeWarning: divide by zero encountered in divide\n",
      "  (self._z**2 * fnr * tnr) /\n",
      "c:\\users\\albert salles\\documents\\personal\\mtu\\privacy\\tensorflow_privacy\\privacy\\privacy_tests\\epsilon_lower_bound.py:334: RuntimeWarning: invalid value encountered in subtract\n",
      "  power_3_term_numer = 1 + self._z / 3 * np.sqrt(fnr / tp + tnr / fp -\n",
      "c:\\users\\albert salles\\documents\\personal\\mtu\\privacy\\tensorflow_privacy\\privacy\\privacy_tests\\epsilon_lower_bound.py:334: RuntimeWarning: divide by zero encountered in divide\n",
      "  power_3_term_numer = 1 + self._z / 3 * np.sqrt(fnr / tp + tnr / fp -\n",
      "c:\\users\\albert salles\\documents\\personal\\mtu\\privacy\\tensorflow_privacy\\privacy\\privacy_tests\\epsilon_lower_bound.py:335: RuntimeWarning: divide by zero encountered in divide\n",
      "  (self._z**2 * fnr * tnr) /\n",
      "c:\\users\\albert salles\\documents\\personal\\mtu\\privacy\\tensorflow_privacy\\privacy\\privacy_tests\\epsilon_lower_bound.py:334: RuntimeWarning: invalid value encountered in subtract\n",
      "  power_3_term_numer = 1 + self._z / 3 * np.sqrt(fnr / tp + tnr / fp -\n",
      "c:\\users\\albert salles\\documents\\personal\\mtu\\privacy\\tensorflow_privacy\\privacy\\privacy_tests\\epsilon_lower_bound.py:334: RuntimeWarning: divide by zero encountered in divide\n",
      "  power_3_term_numer = 1 + self._z / 3 * np.sqrt(fnr / tp + tnr / fp -\n",
      "c:\\users\\albert salles\\documents\\personal\\mtu\\privacy\\tensorflow_privacy\\privacy\\privacy_tests\\epsilon_lower_bound.py:335: RuntimeWarning: divide by zero encountered in divide\n",
      "  (self._z**2 * fnr * tnr) /\n",
      "c:\\users\\albert salles\\documents\\personal\\mtu\\privacy\\tensorflow_privacy\\privacy\\privacy_tests\\epsilon_lower_bound.py:334: RuntimeWarning: invalid value encountered in subtract\n",
      "  power_3_term_numer = 1 + self._z / 3 * np.sqrt(fnr / tp + tnr / fp -\n",
      "c:\\users\\albert salles\\documents\\personal\\mtu\\privacy\\tensorflow_privacy\\privacy\\privacy_tests\\epsilon_lower_bound.py:334: RuntimeWarning: divide by zero encountered in divide\n",
      "  power_3_term_numer = 1 + self._z / 3 * np.sqrt(fnr / tp + tnr / fp -\n",
      "c:\\users\\albert salles\\documents\\personal\\mtu\\privacy\\tensorflow_privacy\\privacy\\privacy_tests\\epsilon_lower_bound.py:335: RuntimeWarning: divide by zero encountered in divide\n",
      "  (self._z**2 * fnr * tnr) /\n",
      "c:\\users\\albert salles\\documents\\personal\\mtu\\privacy\\tensorflow_privacy\\privacy\\privacy_tests\\epsilon_lower_bound.py:334: RuntimeWarning: invalid value encountered in subtract\n",
      "  power_3_term_numer = 1 + self._z / 3 * np.sqrt(fnr / tp + tnr / fp -\n",
      "c:\\users\\albert salles\\documents\\personal\\mtu\\privacy\\tensorflow_privacy\\privacy\\privacy_tests\\epsilon_lower_bound.py:334: RuntimeWarning: divide by zero encountered in divide\n",
      "  power_3_term_numer = 1 + self._z / 3 * np.sqrt(fnr / tp + tnr / fp -\n",
      "c:\\users\\albert salles\\documents\\personal\\mtu\\privacy\\tensorflow_privacy\\privacy\\privacy_tests\\epsilon_lower_bound.py:335: RuntimeWarning: divide by zero encountered in divide\n",
      "  (self._z**2 * fnr * tnr) /\n",
      "c:\\users\\albert salles\\documents\\personal\\mtu\\privacy\\tensorflow_privacy\\privacy\\privacy_tests\\epsilon_lower_bound.py:334: RuntimeWarning: invalid value encountered in subtract\n",
      "  power_3_term_numer = 1 + self._z / 3 * np.sqrt(fnr / tp + tnr / fp -\n",
      "c:\\users\\albert salles\\documents\\personal\\mtu\\privacy\\tensorflow_privacy\\privacy\\privacy_tests\\epsilon_lower_bound.py:334: RuntimeWarning: divide by zero encountered in divide\n",
      "  power_3_term_numer = 1 + self._z / 3 * np.sqrt(fnr / tp + tnr / fp -\n",
      "c:\\users\\albert salles\\documents\\personal\\mtu\\privacy\\tensorflow_privacy\\privacy\\privacy_tests\\epsilon_lower_bound.py:335: RuntimeWarning: divide by zero encountered in divide\n",
      "  (self._z**2 * fnr * tnr) /\n",
      "c:\\users\\albert salles\\documents\\personal\\mtu\\privacy\\tensorflow_privacy\\privacy\\privacy_tests\\epsilon_lower_bound.py:334: RuntimeWarning: invalid value encountered in subtract\n",
      "  power_3_term_numer = 1 + self._z / 3 * np.sqrt(fnr / tp + tnr / fp -\n",
      "c:\\users\\albert salles\\documents\\personal\\mtu\\privacy\\tensorflow_privacy\\privacy\\privacy_tests\\epsilon_lower_bound.py:334: RuntimeWarning: divide by zero encountered in divide\n",
      "  power_3_term_numer = 1 + self._z / 3 * np.sqrt(fnr / tp + tnr / fp -\n",
      "c:\\users\\albert salles\\documents\\personal\\mtu\\privacy\\tensorflow_privacy\\privacy\\privacy_tests\\epsilon_lower_bound.py:335: RuntimeWarning: divide by zero encountered in divide\n",
      "  (self._z**2 * fnr * tnr) /\n",
      "c:\\users\\albert salles\\documents\\personal\\mtu\\privacy\\tensorflow_privacy\\privacy\\privacy_tests\\epsilon_lower_bound.py:334: RuntimeWarning: invalid value encountered in subtract\n",
      "  power_3_term_numer = 1 + self._z / 3 * np.sqrt(fnr / tp + tnr / fp -\n",
      "c:\\users\\albert salles\\documents\\personal\\mtu\\privacy\\tensorflow_privacy\\privacy\\privacy_tests\\epsilon_lower_bound.py:334: RuntimeWarning: divide by zero encountered in divide\n",
      "  power_3_term_numer = 1 + self._z / 3 * np.sqrt(fnr / tp + tnr / fp -\n",
      "c:\\users\\albert salles\\documents\\personal\\mtu\\privacy\\tensorflow_privacy\\privacy\\privacy_tests\\epsilon_lower_bound.py:335: RuntimeWarning: divide by zero encountered in divide\n",
      "  (self._z**2 * fnr * tnr) /\n",
      "c:\\users\\albert salles\\documents\\personal\\mtu\\privacy\\tensorflow_privacy\\privacy\\privacy_tests\\epsilon_lower_bound.py:334: RuntimeWarning: invalid value encountered in subtract\n",
      "  power_3_term_numer = 1 + self._z / 3 * np.sqrt(fnr / tp + tnr / fp -\n",
      "c:\\users\\albert salles\\documents\\personal\\mtu\\privacy\\tensorflow_privacy\\privacy\\privacy_tests\\epsilon_lower_bound.py:334: RuntimeWarning: divide by zero encountered in divide\n",
      "  power_3_term_numer = 1 + self._z / 3 * np.sqrt(fnr / tp + tnr / fp -\n",
      "c:\\users\\albert salles\\documents\\personal\\mtu\\privacy\\tensorflow_privacy\\privacy\\privacy_tests\\epsilon_lower_bound.py:335: RuntimeWarning: divide by zero encountered in divide\n",
      "  (self._z**2 * fnr * tnr) /\n",
      "c:\\users\\albert salles\\documents\\personal\\mtu\\privacy\\tensorflow_privacy\\privacy\\privacy_tests\\epsilon_lower_bound.py:334: RuntimeWarning: invalid value encountered in subtract\n",
      "  power_3_term_numer = 1 + self._z / 3 * np.sqrt(fnr / tp + tnr / fp -\n",
      "c:\\users\\albert salles\\documents\\personal\\mtu\\privacy\\tensorflow_privacy\\privacy\\privacy_tests\\epsilon_lower_bound.py:334: RuntimeWarning: divide by zero encountered in divide\n",
      "  power_3_term_numer = 1 + self._z / 3 * np.sqrt(fnr / tp + tnr / fp -\n",
      "c:\\users\\albert salles\\documents\\personal\\mtu\\privacy\\tensorflow_privacy\\privacy\\privacy_tests\\epsilon_lower_bound.py:335: RuntimeWarning: divide by zero encountered in divide\n",
      "  (self._z**2 * fnr * tnr) /\n",
      "c:\\users\\albert salles\\documents\\personal\\mtu\\privacy\\tensorflow_privacy\\privacy\\privacy_tests\\epsilon_lower_bound.py:334: RuntimeWarning: invalid value encountered in subtract\n",
      "  power_3_term_numer = 1 + self._z / 3 * np.sqrt(fnr / tp + tnr / fp -\n",
      "c:\\users\\albert salles\\documents\\personal\\mtu\\privacy\\tensorflow_privacy\\privacy\\privacy_tests\\epsilon_lower_bound.py:334: RuntimeWarning: divide by zero encountered in divide\n",
      "  power_3_term_numer = 1 + self._z / 3 * np.sqrt(fnr / tp + tnr / fp -\n",
      "c:\\users\\albert salles\\documents\\personal\\mtu\\privacy\\tensorflow_privacy\\privacy\\privacy_tests\\epsilon_lower_bound.py:335: RuntimeWarning: divide by zero encountered in divide\n",
      "  (self._z**2 * fnr * tnr) /\n",
      "c:\\users\\albert salles\\documents\\personal\\mtu\\privacy\\tensorflow_privacy\\privacy\\privacy_tests\\epsilon_lower_bound.py:334: RuntimeWarning: invalid value encountered in subtract\n",
      "  power_3_term_numer = 1 + self._z / 3 * np.sqrt(fnr / tp + tnr / fp -\n",
      "c:\\users\\albert salles\\documents\\personal\\mtu\\privacy\\tensorflow_privacy\\privacy\\privacy_tests\\epsilon_lower_bound.py:334: RuntimeWarning: divide by zero encountered in divide\n",
      "  power_3_term_numer = 1 + self._z / 3 * np.sqrt(fnr / tp + tnr / fp -\n",
      "c:\\users\\albert salles\\documents\\personal\\mtu\\privacy\\tensorflow_privacy\\privacy\\privacy_tests\\epsilon_lower_bound.py:335: RuntimeWarning: divide by zero encountered in divide\n",
      "  (self._z**2 * fnr * tnr) /\n",
      "c:\\users\\albert salles\\documents\\personal\\mtu\\privacy\\tensorflow_privacy\\privacy\\privacy_tests\\epsilon_lower_bound.py:334: RuntimeWarning: invalid value encountered in subtract\n",
      "  power_3_term_numer = 1 + self._z / 3 * np.sqrt(fnr / tp + tnr / fp -\n",
      "c:\\users\\albert salles\\documents\\personal\\mtu\\privacy\\tensorflow_privacy\\privacy\\privacy_tests\\epsilon_lower_bound.py:334: RuntimeWarning: divide by zero encountered in divide\n",
      "  power_3_term_numer = 1 + self._z / 3 * np.sqrt(fnr / tp + tnr / fp -\n",
      "c:\\users\\albert salles\\documents\\personal\\mtu\\privacy\\tensorflow_privacy\\privacy\\privacy_tests\\epsilon_lower_bound.py:335: RuntimeWarning: divide by zero encountered in divide\n",
      "  (self._z**2 * fnr * tnr) /\n",
      "c:\\users\\albert salles\\documents\\personal\\mtu\\privacy\\tensorflow_privacy\\privacy\\privacy_tests\\epsilon_lower_bound.py:334: RuntimeWarning: invalid value encountered in subtract\n",
      "  power_3_term_numer = 1 + self._z / 3 * np.sqrt(fnr / tp + tnr / fp -\n",
      "c:\\users\\albert salles\\documents\\personal\\mtu\\privacy\\tensorflow_privacy\\privacy\\privacy_tests\\epsilon_lower_bound.py:334: RuntimeWarning: divide by zero encountered in divide\n",
      "  power_3_term_numer = 1 + self._z / 3 * np.sqrt(fnr / tp + tnr / fp -\n",
      "c:\\users\\albert salles\\documents\\personal\\mtu\\privacy\\tensorflow_privacy\\privacy\\privacy_tests\\epsilon_lower_bound.py:335: RuntimeWarning: divide by zero encountered in divide\n",
      "  (self._z**2 * fnr * tnr) /\n",
      "c:\\users\\albert salles\\documents\\personal\\mtu\\privacy\\tensorflow_privacy\\privacy\\privacy_tests\\epsilon_lower_bound.py:334: RuntimeWarning: invalid value encountered in subtract\n",
      "  power_3_term_numer = 1 + self._z / 3 * np.sqrt(fnr / tp + tnr / fp -\n",
      "c:\\users\\albert salles\\documents\\personal\\mtu\\privacy\\tensorflow_privacy\\privacy\\privacy_tests\\epsilon_lower_bound.py:334: RuntimeWarning: divide by zero encountered in divide\n",
      "  power_3_term_numer = 1 + self._z / 3 * np.sqrt(fnr / tp + tnr / fp -\n",
      "c:\\users\\albert salles\\documents\\personal\\mtu\\privacy\\tensorflow_privacy\\privacy\\privacy_tests\\epsilon_lower_bound.py:335: RuntimeWarning: divide by zero encountered in divide\n",
      "  (self._z**2 * fnr * tnr) /\n",
      "c:\\users\\albert salles\\documents\\personal\\mtu\\privacy\\tensorflow_privacy\\privacy\\privacy_tests\\epsilon_lower_bound.py:334: RuntimeWarning: invalid value encountered in subtract\n",
      "  power_3_term_numer = 1 + self._z / 3 * np.sqrt(fnr / tp + tnr / fp -\n",
      "c:\\users\\albert salles\\documents\\personal\\mtu\\privacy\\tensorflow_privacy\\privacy\\privacy_tests\\epsilon_lower_bound.py:334: RuntimeWarning: divide by zero encountered in divide\n",
      "  power_3_term_numer = 1 + self._z / 3 * np.sqrt(fnr / tp + tnr / fp -\n",
      "c:\\users\\albert salles\\documents\\personal\\mtu\\privacy\\tensorflow_privacy\\privacy\\privacy_tests\\epsilon_lower_bound.py:335: RuntimeWarning: divide by zero encountered in divide\n",
      "  (self._z**2 * fnr * tnr) /\n",
      "c:\\users\\albert salles\\documents\\personal\\mtu\\privacy\\tensorflow_privacy\\privacy\\privacy_tests\\epsilon_lower_bound.py:334: RuntimeWarning: invalid value encountered in subtract\n",
      "  power_3_term_numer = 1 + self._z / 3 * np.sqrt(fnr / tp + tnr / fp -\n",
      "c:\\users\\albert salles\\documents\\personal\\mtu\\privacy\\tensorflow_privacy\\privacy\\privacy_tests\\epsilon_lower_bound.py:334: RuntimeWarning: divide by zero encountered in divide\n",
      "  power_3_term_numer = 1 + self._z / 3 * np.sqrt(fnr / tp + tnr / fp -\n",
      "c:\\users\\albert salles\\documents\\personal\\mtu\\privacy\\tensorflow_privacy\\privacy\\privacy_tests\\epsilon_lower_bound.py:335: RuntimeWarning: divide by zero encountered in divide\n",
      "  (self._z**2 * fnr * tnr) /\n",
      "c:\\users\\albert salles\\documents\\personal\\mtu\\privacy\\tensorflow_privacy\\privacy\\privacy_tests\\epsilon_lower_bound.py:334: RuntimeWarning: invalid value encountered in subtract\n",
      "  power_3_term_numer = 1 + self._z / 3 * np.sqrt(fnr / tp + tnr / fp -\n",
      "c:\\users\\albert salles\\documents\\personal\\mtu\\privacy\\tensorflow_privacy\\privacy\\privacy_tests\\epsilon_lower_bound.py:334: RuntimeWarning: divide by zero encountered in divide\n",
      "  power_3_term_numer = 1 + self._z / 3 * np.sqrt(fnr / tp + tnr / fp -\n",
      "c:\\users\\albert salles\\documents\\personal\\mtu\\privacy\\tensorflow_privacy\\privacy\\privacy_tests\\epsilon_lower_bound.py:335: RuntimeWarning: divide by zero encountered in divide\n",
      "  (self._z**2 * fnr * tnr) /\n",
      "c:\\users\\albert salles\\documents\\personal\\mtu\\privacy\\tensorflow_privacy\\privacy\\privacy_tests\\epsilon_lower_bound.py:334: RuntimeWarning: invalid value encountered in subtract\n",
      "  power_3_term_numer = 1 + self._z / 3 * np.sqrt(fnr / tp + tnr / fp -\n",
      "c:\\users\\albert salles\\documents\\personal\\mtu\\privacy\\tensorflow_privacy\\privacy\\privacy_tests\\epsilon_lower_bound.py:334: RuntimeWarning: divide by zero encountered in divide\n",
      "  power_3_term_numer = 1 + self._z / 3 * np.sqrt(fnr / tp + tnr / fp -\n",
      "c:\\users\\albert salles\\documents\\personal\\mtu\\privacy\\tensorflow_privacy\\privacy\\privacy_tests\\epsilon_lower_bound.py:335: RuntimeWarning: divide by zero encountered in divide\n",
      "  (self._z**2 * fnr * tnr) /\n",
      "c:\\users\\albert salles\\documents\\personal\\mtu\\privacy\\tensorflow_privacy\\privacy\\privacy_tests\\epsilon_lower_bound.py:334: RuntimeWarning: invalid value encountered in subtract\n",
      "  power_3_term_numer = 1 + self._z / 3 * np.sqrt(fnr / tp + tnr / fp -\n",
      "c:\\users\\albert salles\\documents\\personal\\mtu\\privacy\\tensorflow_privacy\\privacy\\privacy_tests\\epsilon_lower_bound.py:334: RuntimeWarning: divide by zero encountered in divide\n",
      "  power_3_term_numer = 1 + self._z / 3 * np.sqrt(fnr / tp + tnr / fp -\n",
      "c:\\users\\albert salles\\documents\\personal\\mtu\\privacy\\tensorflow_privacy\\privacy\\privacy_tests\\epsilon_lower_bound.py:335: RuntimeWarning: divide by zero encountered in divide\n",
      "  (self._z**2 * fnr * tnr) /\n",
      "c:\\users\\albert salles\\documents\\personal\\mtu\\privacy\\tensorflow_privacy\\privacy\\privacy_tests\\epsilon_lower_bound.py:334: RuntimeWarning: invalid value encountered in subtract\n",
      "  power_3_term_numer = 1 + self._z / 3 * np.sqrt(fnr / tp + tnr / fp -\n",
      "c:\\users\\albert salles\\documents\\personal\\mtu\\privacy\\tensorflow_privacy\\privacy\\privacy_tests\\epsilon_lower_bound.py:334: RuntimeWarning: divide by zero encountered in divide\n",
      "  power_3_term_numer = 1 + self._z / 3 * np.sqrt(fnr / tp + tnr / fp -\n",
      "c:\\users\\albert salles\\documents\\personal\\mtu\\privacy\\tensorflow_privacy\\privacy\\privacy_tests\\epsilon_lower_bound.py:335: RuntimeWarning: divide by zero encountered in divide\n",
      "  (self._z**2 * fnr * tnr) /\n",
      "c:\\users\\albert salles\\documents\\personal\\mtu\\privacy\\tensorflow_privacy\\privacy\\privacy_tests\\epsilon_lower_bound.py:334: RuntimeWarning: invalid value encountered in subtract\n",
      "  power_3_term_numer = 1 + self._z / 3 * np.sqrt(fnr / tp + tnr / fp -\n",
      "c:\\users\\albert salles\\documents\\personal\\mtu\\privacy\\tensorflow_privacy\\privacy\\privacy_tests\\epsilon_lower_bound.py:334: RuntimeWarning: divide by zero encountered in divide\n",
      "  power_3_term_numer = 1 + self._z / 3 * np.sqrt(fnr / tp + tnr / fp -\n",
      "c:\\users\\albert salles\\documents\\personal\\mtu\\privacy\\tensorflow_privacy\\privacy\\privacy_tests\\epsilon_lower_bound.py:335: RuntimeWarning: divide by zero encountered in divide\n",
      "  (self._z**2 * fnr * tnr) /\n",
      "c:\\users\\albert salles\\documents\\personal\\mtu\\privacy\\tensorflow_privacy\\privacy\\privacy_tests\\epsilon_lower_bound.py:334: RuntimeWarning: invalid value encountered in subtract\n",
      "  power_3_term_numer = 1 + self._z / 3 * np.sqrt(fnr / tp + tnr / fp -\n",
      "c:\\users\\albert salles\\documents\\personal\\mtu\\privacy\\tensorflow_privacy\\privacy\\privacy_tests\\epsilon_lower_bound.py:334: RuntimeWarning: divide by zero encountered in divide\n",
      "  power_3_term_numer = 1 + self._z / 3 * np.sqrt(fnr / tp + tnr / fp -\n",
      "c:\\users\\albert salles\\documents\\personal\\mtu\\privacy\\tensorflow_privacy\\privacy\\privacy_tests\\epsilon_lower_bound.py:335: RuntimeWarning: divide by zero encountered in divide\n",
      "  (self._z**2 * fnr * tnr) /\n",
      "c:\\users\\albert salles\\documents\\personal\\mtu\\privacy\\tensorflow_privacy\\privacy\\privacy_tests\\epsilon_lower_bound.py:334: RuntimeWarning: invalid value encountered in subtract\n",
      "  power_3_term_numer = 1 + self._z / 3 * np.sqrt(fnr / tp + tnr / fp -\n",
      "c:\\users\\albert salles\\documents\\personal\\mtu\\privacy\\tensorflow_privacy\\privacy\\privacy_tests\\epsilon_lower_bound.py:334: RuntimeWarning: divide by zero encountered in divide\n",
      "  power_3_term_numer = 1 + self._z / 3 * np.sqrt(fnr / tp + tnr / fp -\n",
      "c:\\users\\albert salles\\documents\\personal\\mtu\\privacy\\tensorflow_privacy\\privacy\\privacy_tests\\epsilon_lower_bound.py:335: RuntimeWarning: divide by zero encountered in divide\n",
      "  (self._z**2 * fnr * tnr) /\n",
      "c:\\users\\albert salles\\documents\\personal\\mtu\\privacy\\tensorflow_privacy\\privacy\\privacy_tests\\epsilon_lower_bound.py:334: RuntimeWarning: invalid value encountered in subtract\n",
      "  power_3_term_numer = 1 + self._z / 3 * np.sqrt(fnr / tp + tnr / fp -\n"
     ]
    },
    {
     "data": {
      "image/png": "[encoded data removed]",
      "text/plain": [
       "<Figure size 640x480 with 1 Axes>"
      ]
     },
     "metadata": {},
     "output_type": "display_data"
    }
   ],
   "source": [
    "from services.eval_privacy import compute_mia_attacks\n",
    "\n",
    "attacks_results, fig = compute_mia_attacks(model=best_model, X_train=X_train_final_res[:X_test_final.shape[0]], X_test=X_test_final, y_train=y_train_final_res[:X_test_final.shape[0]], y_test=y_test_final) "
   ]
  },
  {
   "cell_type": "code",
   "execution_count": null,
   "metadata": {},
   "outputs": [],
   "source": []
  }
 ],
 "metadata": {
  "accelerator": "GPU",
  "colab": {
   "authorship_tag": "ABX9TyOMmETxQD2d7KiUpjSDU1F1",
   "gpuType": "T4",
   "mount_file_id": "1mJtX38Y9103-VU3j4l9xT5sEKs-FWCLl",
   "provenance": []
  },
  "kernelspec": {
   "display_name": "ds",
   "language": "python",
   "name": "python3"
  },
  "language_info": {
   "codemirror_mode": {
    "name": "ipython",
    "version": 3
   },
   "file_extension": ".py",
   "mimetype": "text/x-python",
   "name": "python",
   "nbconvert_exporter": "python",
   "pygments_lexer": "ipython3",
   "version": "3.11.5"
  }
 },
 "nbformat": 4,
 "nbformat_minor": 0
}
